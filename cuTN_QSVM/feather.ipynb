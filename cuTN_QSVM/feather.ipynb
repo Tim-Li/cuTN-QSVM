{
 "cells": [
  {
   "cell_type": "code",
   "execution_count": 9,
   "id": "f81a6b74-b059-4fbf-9d5b-df88a100e77e",
   "metadata": {},
   "outputs": [
    {
     "name": "stdout",
     "output_type": "stream",
     "text": [
      "Requirement already satisfied: feather-format in ./conda/envs/cuquantum-23.10/lib/python3.10/site-packages (0.4.1)\n",
      "Requirement already satisfied: pyarrow>=0.4.0 in ./conda/envs/cuquantum-23.10/lib/python3.10/site-packages (from feather-format) (15.0.1)\n",
      "Requirement already satisfied: numpy<2,>=1.16.6 in ./conda/envs/cuquantum-23.10/lib/python3.10/site-packages (from pyarrow>=0.4.0->feather-format) (1.23.5)\n",
      "Note: you may need to restart the kernel to use updated packages.\n",
      "Requirement already satisfied: panda in ./conda/envs/cuquantum-23.10/lib/python3.10/site-packages (0.3.1)\n",
      "Requirement already satisfied: setuptools in ./conda/envs/cuquantum-23.10/lib/python3.10/site-packages (from panda) (65.5.1)\n",
      "Requirement already satisfied: requests in ./conda/envs/cuquantum-23.10/lib/python3.10/site-packages (from panda) (2.31.0)\n",
      "Requirement already satisfied: charset-normalizer<4,>=2 in ./conda/envs/cuquantum-23.10/lib/python3.10/site-packages (from requests->panda) (3.3.2)\n",
      "Requirement already satisfied: idna<4,>=2.5 in ./conda/envs/cuquantum-23.10/lib/python3.10/site-packages (from requests->panda) (3.4)\n",
      "Requirement already satisfied: urllib3<3,>=1.21.1 in ./conda/envs/cuquantum-23.10/lib/python3.10/site-packages (from requests->panda) (1.26.5)\n",
      "Requirement already satisfied: certifi>=2017.4.17 in ./conda/envs/cuquantum-23.10/lib/python3.10/site-packages (from requests->panda) (2023.7.22)\n",
      "Note: you may need to restart the kernel to use updated packages.\n"
     ]
    }
   ],
   "source": [
    "%pip install feather-format\n",
    "%pip install panda\n",
    "import feather\n",
    "import pandas as pd"
   ]
  },
  {
   "cell_type": "code",
   "execution_count": 12,
   "id": "e1e6ddc6-f174-45f3-9a60-67baa4a5d38c",
   "metadata": {},
   "outputs": [],
   "source": [
    "# Save data as feather file\n",
    "\n",
    "data_1 = [0, 1, 2]\n",
    "data_2 = [[3, 4], [5, 6], [7, 8]]\n",
    "\n",
    "feather.write_dataframe(pd.DataFrame({'data_1': data_1, 'data_2': data_2}), 'data.feather')"
   ]
  },
  {
   "cell_type": "code",
   "execution_count": 14,
   "id": "3d351f6a-f2fa-44e4-b58a-3e4b71499628",
   "metadata": {},
   "outputs": [
    {
     "name": "stdout",
     "output_type": "stream",
     "text": [
      "[0 1 2]\n",
      "[array([3, 4]) array([5, 6]) array([7, 8])]\n"
     ]
    }
   ],
   "source": [
    "# Load feather file and readout data\n",
    "\n",
    "filename = 'data.feather'\n",
    "readout = feather.read_dataframe(filename)\n",
    "Data_1 = readout['data_1'].to_numpy()\n",
    "Data_2 = readout['data_2'].to_numpy()\n",
    "\n",
    "print(Data_1)\n",
    "print(Data_2)"
   ]
  }
 ],
 "metadata": {
  "kernelspec": {
   "display_name": "Python 3 (ipykernel)",
   "language": "python",
   "name": "python3"
  },
  "language_info": {
   "codemirror_mode": {
    "name": "ipython",
    "version": 3
   },
   "file_extension": ".py",
   "mimetype": "text/x-python",
   "name": "python",
   "nbconvert_exporter": "python",
   "pygments_lexer": "ipython3",
   "version": "3.10.13"
  }
 },
 "nbformat": 4,
 "nbformat_minor": 5
}
