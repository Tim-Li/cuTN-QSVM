{
 "cells": [
  {
   "cell_type": "code",
   "execution_count": 4,
   "id": "2128c37a-a61f-4024-a7b9-b41029558bcc",
   "metadata": {},
   "outputs": [],
   "source": [
    "import numpy as np\n",
    "from sklearn.preprocessing import MinMaxScaler\n",
    "\n",
    "\n",
    "# Prepare digits dataset\n",
    "from sklearn.datasets import load_digits\n",
    "\n",
    "load_digits = load_digits()\n",
    "X = load_digits.data\n",
    "Y = load_digits.target\n",
    "\n",
    "\n",
    "def reduce_dim(method, X, dim):\n",
    "    if method == 'pca':\n",
    "        from sklearn.decomposition import PCA\n",
    "        pca = PCA(n_components = dim)\n",
    "        X = pca.fit_transform(X)\n",
    "    elif method == 'tsne':\n",
    "        from sklearn.manifold import TSNE\n",
    "        tsne = TSNE(n_components = dim)\n",
    "        X = tsne.fit_transform(X)\n",
    "\n",
    "    return X\n",
    "\n",
    "\n",
    "def class_select(X, Y, labels):\n",
    "    X_select = []\n",
    "    Y_select = []\n",
    "    for x, y in zip(X, Y):\n",
    "        if int(y) in labels:\n",
    "            X_select.append(x)\n",
    "            Y_select.append(y)\n",
    "\n",
    "    return np.array(X_select), np.array(Y_select)\n",
    "\n",
    "\n",
    "method = 'pca'\n",
    "dim = 16\n",
    "labels = [0, 1]\n",
    "\n",
    "X = reduce_dim(method, X, dim)\n",
    "X, Y = class_select(X, Y, labels)\n",
    "#X = MinMaxScaler().fit_transform(X)"
   ]
  }
 ],
 "metadata": {
  "kernelspec": {
   "display_name": "Python 3 (ipykernel)",
   "language": "python",
   "name": "python3"
  },
  "language_info": {
   "codemirror_mode": {
    "name": "ipython",
    "version": 3
   },
   "file_extension": ".py",
   "mimetype": "text/x-python",
   "name": "python",
   "nbconvert_exporter": "python",
   "pygments_lexer": "ipython3",
   "version": "3.10.13"
  }
 },
 "nbformat": 4,
 "nbformat_minor": 5
}
