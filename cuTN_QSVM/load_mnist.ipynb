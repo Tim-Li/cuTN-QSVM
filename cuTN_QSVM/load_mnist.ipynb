{
  "cells": [
    {
      "cell_type": "code",
      "execution_count": 2,
      "id": "2128c37a-a61f-4024-a7b9-b41029558bcc",
      "metadata": {
        "colab": {
          "base_uri": "https://localhost:8080/"
        },
        "id": "2128c37a-a61f-4024-a7b9-b41029558bcc",
        "outputId": "41f439c4-0fe7-4a9b-9fa4-07cc5c8de2f3"
      },
      "outputs": [
        {
          "output_type": "stream",
          "name": "stderr",
          "text": [
            "/usr/local/lib/python3.10/dist-packages/sklearn/datasets/_openml.py:968: FutureWarning: The default value of `parser` will change from `'liac-arff'` to `'auto'` in 1.4. You can set `parser='auto'` to silence this warning. Therefore, an `ImportError` will be raised from 1.4 if the dataset is dense and pandas is not installed. Note that the pandas parser may return different data types. See the Notes Section in fetch_openml's API doc for details.\n",
            "  warn(\n"
          ]
        }
      ],
      "source": [
        "import numpy as np\n",
        "from sklearn.preprocessing import MinMaxScaler\n",
        "\n",
        "\n",
        "# Prepare MNIST dataset\n",
        "from sklearn.datasets import fetch_openml    # MNIST dataset\n",
        "\n",
        "mnist = fetch_openml('mnist_784')\n",
        "X = mnist.data.to_numpy()\n",
        "Y = mnist.target.to_numpy().astype(int)\n",
        "\n",
        "\n",
        "def reduce_dim(method, X, dim):\n",
        "    if method == 'pca':\n",
        "        from sklearn.decomposition import PCA\n",
        "        pca = PCA(n_components = dim)\n",
        "        X = pca.fit_transform(X)\n",
        "    elif method == 'tsne':\n",
        "        from sklearn.manifold import TSNE\n",
        "        tsne = TSNE(n_components = dim)\n",
        "        X = tsne.fit_transform(X)\n",
        "\n",
        "    return X\n",
        "\n",
        "\n",
        "def class_select(X, Y, labels):\n",
        "    X_select = []\n",
        "    Y_select = []\n",
        "    for x, y in zip(X, Y):\n",
        "        if int(y) in labels:\n",
        "            X_select.append(x)\n",
        "            Y_select.append(y)\n",
        "\n",
        "    return np.array(X_select), np.array(Y_select)\n",
        "\n",
        "\n",
        "method = 'pca'\n",
        "dim = 16\n",
        "labels = [0, 1]\n",
        "\n",
        "X = reduce_dim(method, X, dim)\n",
        "X, Y = class_select(X, Y, labels)\n",
        "#X = MinMaxScaler().fit_transform(X)"
      ]
    }
  ],
  "metadata": {
    "kernelspec": {
      "display_name": "Python 3 (ipykernel)",
      "language": "python",
      "name": "python3"
    },
    "language_info": {
      "codemirror_mode": {
        "name": "ipython",
        "version": 3
      },
      "file_extension": ".py",
      "mimetype": "text/x-python",
      "name": "python",
      "nbconvert_exporter": "python",
      "pygments_lexer": "ipython3",
      "version": "3.10.13"
    },
    "colab": {
      "provenance": []
    }
  },
  "nbformat": 4,
  "nbformat_minor": 5
}