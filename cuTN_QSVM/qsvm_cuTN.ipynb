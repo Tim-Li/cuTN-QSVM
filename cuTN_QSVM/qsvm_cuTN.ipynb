{
 "cells": [
  {
   "cell_type": "code",
   "execution_count": 17,
   "metadata": {},
   "outputs": [
    {
     "name": "stdout",
     "output_type": "stream",
     "text": [
      "Requirement already satisfied: qiskit-machine-learning==0.6.1 in ./conda/envs/cuquantum-23.10/lib/python3.10/site-packages (0.6.1)\n",
      "Requirement already satisfied: qiskit-terra>=0.22.2 in ./conda/envs/cuquantum-23.10/lib/python3.10/site-packages (from qiskit-machine-learning==0.6.1) (0.25.3)\n",
      "Requirement already satisfied: scipy>=1.4 in ./conda/envs/cuquantum-23.10/lib/python3.10/site-packages (from qiskit-machine-learning==0.6.1) (1.11.3)\n",
      "Requirement already satisfied: numpy>=1.17 in ./conda/envs/cuquantum-23.10/lib/python3.10/site-packages (from qiskit-machine-learning==0.6.1) (1.23.5)\n",
      "Requirement already satisfied: psutil>=5 in ./conda/envs/cuquantum-23.10/lib/python3.10/site-packages (from qiskit-machine-learning==0.6.1) (5.9.6)\n",
      "Requirement already satisfied: scikit-learn>=0.20.0 in ./conda/envs/cuquantum-23.10/lib/python3.10/site-packages (from qiskit-machine-learning==0.6.1) (1.4.0)\n",
      "Requirement already satisfied: fastdtw in ./conda/envs/cuquantum-23.10/lib/python3.10/site-packages (from qiskit-machine-learning==0.6.1) (0.3.4)\n",
      "Requirement already satisfied: setuptools>=40.1.0 in ./conda/envs/cuquantum-23.10/lib/python3.10/site-packages (from qiskit-machine-learning==0.6.1) (65.5.1)\n",
      "Requirement already satisfied: dill>=0.3.4 in ./conda/envs/cuquantum-23.10/lib/python3.10/site-packages (from qiskit-machine-learning==0.6.1) (0.3.7)\n",
      "Requirement already satisfied: rustworkx>=0.13.0 in ./conda/envs/cuquantum-23.10/lib/python3.10/site-packages (from qiskit-terra>=0.22.2->qiskit-machine-learning==0.6.1) (0.13.2)\n",
      "Requirement already satisfied: ply>=3.10 in ./conda/envs/cuquantum-23.10/lib/python3.10/site-packages (from qiskit-terra>=0.22.2->qiskit-machine-learning==0.6.1) (3.11)\n",
      "Requirement already satisfied: sympy>=1.3 in ./conda/envs/cuquantum-23.10/lib/python3.10/site-packages (from qiskit-terra>=0.22.2->qiskit-machine-learning==0.6.1) (1.12)\n",
      "Requirement already satisfied: python-dateutil>=2.8.0 in ./conda/envs/cuquantum-23.10/lib/python3.10/site-packages (from qiskit-terra>=0.22.2->qiskit-machine-learning==0.6.1) (2.8.2)\n",
      "Requirement already satisfied: stevedore>=3.0.0 in ./conda/envs/cuquantum-23.10/lib/python3.10/site-packages (from qiskit-terra>=0.22.2->qiskit-machine-learning==0.6.1) (5.1.0)\n",
      "Requirement already satisfied: symengine<0.10,>=0.9 in ./conda/envs/cuquantum-23.10/lib/python3.10/site-packages (from qiskit-terra>=0.22.2->qiskit-machine-learning==0.6.1) (0.9.2)\n",
      "Requirement already satisfied: typing-extensions in ./conda/envs/cuquantum-23.10/lib/python3.10/site-packages (from qiskit-terra>=0.22.2->qiskit-machine-learning==0.6.1) (4.8.0)\n",
      "Requirement already satisfied: joblib>=1.2.0 in ./conda/envs/cuquantum-23.10/lib/python3.10/site-packages (from scikit-learn>=0.20.0->qiskit-machine-learning==0.6.1) (1.3.2)\n",
      "Requirement already satisfied: threadpoolctl>=2.0.0 in ./conda/envs/cuquantum-23.10/lib/python3.10/site-packages (from scikit-learn>=0.20.0->qiskit-machine-learning==0.6.1) (3.2.0)\n",
      "Requirement already satisfied: six>=1.5 in ./conda/envs/cuquantum-23.10/lib/python3.10/site-packages (from python-dateutil>=2.8.0->qiskit-terra>=0.22.2->qiskit-machine-learning==0.6.1) (1.16.0)\n",
      "Requirement already satisfied: pbr!=2.1.0,>=2.0.0 in ./conda/envs/cuquantum-23.10/lib/python3.10/site-packages (from stevedore>=3.0.0->qiskit-terra>=0.22.2->qiskit-machine-learning==0.6.1) (6.0.0)\n",
      "Requirement already satisfied: mpmath>=0.19 in ./conda/envs/cuquantum-23.10/lib/python3.10/site-packages (from sympy>=1.3->qiskit-terra>=0.22.2->qiskit-machine-learning==0.6.1) (1.3.0)\n"
     ]
    }
   ],
   "source": [
    "!pip install qiskit-machine-learning==0.6.1"
   ]
  },
  {
   "cell_type": "code",
   "execution_count": 37,
   "metadata": {},
   "outputs": [],
   "source": [
    "import numpy as np\n",
    "import pandas as pd\n",
    "import time\n",
    "import matplotlib.pyplot as plt\n",
    "from sklearn.model_selection import train_test_split\n",
    "from sklearn.decomposition import PCA\n",
    "from sklearn.preprocessing import StandardScaler\n",
    "from qiskit.circuit.library import PauliFeatureMap, ZFeatureMap, ZZFeatureMap\n",
    "from qiskit_machine_learning.kernels import QuantumKernel\n",
    "import qiskit\n",
    "from cuquantum import *\n",
    "import time\n",
    "#import nvtx"
   ]
  },
  {
   "cell_type": "code",
   "execution_count": 38,
   "metadata": {},
   "outputs": [],
   "source": [
    "traindata = pd.read_csv('../../Pika/NSRRC/fashion-mnist_train.csv')\n",
    "filt = (traindata['label'] < 2)\n",
    "two_class = traindata.loc[filt]"
   ]
  },
  {
   "cell_type": "code",
   "execution_count": 39,
   "metadata": {},
   "outputs": [],
   "source": [
    "def fashion_train_data(n_dim = 2,datasize = 2):\n",
    "    data_train  = two_class.iloc[:,1:785] / 255.0\n",
    "    label_train = pd.DataFrame([two_class.iloc[:,0]]).T\n",
    "    l_train=pd.DataFrame([two_class.iloc[:,0]]).T\n",
    "    X_train, X_val, Y_train, Y_val = train_test_split(data_train, l_train, test_size = 0.25, random_state=255)\n",
    "    X_train = StandardScaler().fit_transform(X_train)\n",
    "    X_val   = StandardScaler().fit_transform(X_val)\n",
    "    pca = PCA(n_components=n_dim).fit(X_train)\n",
    "    X_train = pca.transform(X_train)\n",
    "    X_train = X_train[:datasize]\n",
    "    Y_train = np.array(Y_train).ravel()\n",
    "    Y_train = Y_train[:datasize]  \n",
    "    return X_train, Y_train"
   ]
  },
  {
   "cell_type": "code",
   "execution_count": 40,
   "metadata": {},
   "outputs": [],
   "source": [
    "def qc_qiskit2cuquantum(x_t1, x_t2, n_dim):\n",
    "    zz_map = ZZFeatureMap(feature_dimension=n_dim, reps=1, entanglement=\"linear\", insert_barriers=True)\n",
    "    zz_kernel = QuantumKernel(feature_map=zz_map)  \n",
    "    zz_circuit = zz_kernel.construct_circuit(x_t1,x_t2,measurement=False,is_statevector_sim=False)\n",
    "    converter = CircuitToEinsum(zz_circuit, backend='cupy')\n",
    "    a = str(0).zfill(n_dim)\n",
    "    exp, oper = converter.amplitude(a)  \n",
    "    return zz_circuit, exp, oper"
   ]
  },
  {
   "cell_type": "code",
   "execution_count": 41,
   "metadata": {},
   "outputs": [],
   "source": [
    "import cupy as cp\n",
    "\n",
    "def get_operands(mode, datasize, x_t, n_dim):\n",
    "    OPER = []\n",
    "    for i1 in range(2,datasize+1):\n",
    "        for i2 in range(1,i1):\n",
    "            _, _, oper = qc_qiskit2cuquantum(x_t[i1-1],x_t[i2-1],n_dim)\n",
    "            if mode == 'gpu':    # Data transfer from host to GPU\n",
    "                oper_gpu = [cp.asarray(tensor) for tensor in oper]\n",
    "                OPER.append(oper_gpu)\n",
    "            elif mode == 'cpu':\n",
    "                OPER.append(oper)\n",
    "\n",
    "    return OPER"
   ]
  },
  {
   "cell_type": "code",
   "execution_count": 42,
   "metadata": {},
   "outputs": [],
   "source": [
    "def get_kernel_matrix_0(x_t,datasize,n_dim):\n",
    "    kernel_matrix = np.zeros((datasize,datasize))\n",
    "\n",
    "    qc, exp, oper = qc_qiskit2cuquantum(x_t[0], x_t[0], n_dim)\n",
    "    path, info = contract_path(exp,*oper)\n",
    "\n",
    "    t0 = time.time()\n",
    "    for i1 in range(2,datasize+1):\n",
    "        for i2 in range(1,i1):\n",
    "            qc, exp_tmp, oper_tmp = qc_qiskit2cuquantum(x_t[i1-1],x_t[i2-1],n_dim)\n",
    "            amp = contract(exp_tmp, *oper_tmp, optimize = {'path' : path})\n",
    "            kernel_matrix[i1-1][i2-1] = np.round(np.sqrt(np.square(amp.real)+np.square(amp.imag)),5)\n",
    "    kernel_matrix = kernel_matrix+kernel_matrix.T+np.diag(np.ones((datasize)))\n",
    "    print(\"Time = \", time.time()-t0)\n",
    "    \n",
    "    return kernel_matrix "
   ]
  },
  {
   "cell_type": "code",
   "execution_count": 43,
   "metadata": {},
   "outputs": [],
   "source": [
    "n_dim, datasize  = 50, 100\n",
    "x_t, y_t = fashion_train_data(n_dim, datasize)"
   ]
  },
  {
   "cell_type": "code",
   "execution_count": 44,
   "metadata": {},
   "outputs": [
    {
     "name": "stdout",
     "output_type": "stream",
     "text": [
      "Time =  1265.3554968833923\n"
     ]
    },
    {
     "data": {
      "text/plain": [
       "array([[1., 0., 0., ..., 0., 0., 0.],\n",
       "       [0., 1., 0., ..., 0., 0., 0.],\n",
       "       [0., 0., 1., ..., 0., 0., 0.],\n",
       "       ...,\n",
       "       [0., 0., 0., ..., 1., 0., 0.],\n",
       "       [0., 0., 0., ..., 0., 1., 0.],\n",
       "       [0., 0., 0., ..., 0., 0., 1.]])"
      ]
     },
     "execution_count": 44,
     "metadata": {},
     "output_type": "execute_result"
    }
   ],
   "source": [
    "\"\"\" Original (qc_qiskit2cuquantum included) \"\"\"\n",
    "\n",
    "get_kernel_matrix_0(x_t, datasize, n_dim)"
   ]
  },
  {
   "cell_type": "code",
   "execution_count": 45,
   "metadata": {},
   "outputs": [],
   "source": [
    "def get_kernel_matrix_cpu(OPER, x_t,datasize,n_dim):\n",
    "    kernel_matrix = np.zeros((datasize,datasize))\n",
    "\n",
    "    _, exp, _ = qc_qiskit2cuquantum(x_t[0], x_t[0], n_dim)\n",
    "    oper, idx = OPER[0], -1\n",
    "    path, info = contract_path(exp,*oper)\n",
    "    \n",
    "    t0 = time.time()\n",
    "    for i1 in range(2,datasize+1):\n",
    "        for i2 in range(1,i1):\n",
    "            idx += 1\n",
    "            amp = contract(exp, *OPER[idx], optimize = {'path' : path})\n",
    "            kernel_matrix[i1-1][i2-1] = np.round(np.sqrt(np.square(amp.real)+np.square(amp.imag)),5)\n",
    "    kernel_matrix = kernel_matrix + kernel_matrix.T + np.diag(np.ones((datasize)))\n",
    "    print(\"Time = \", time.time()-t0)\n",
    "    \n",
    "    return kernel_matrix "
   ]
  },
  {
   "cell_type": "code",
   "execution_count": null,
   "metadata": {},
   "outputs": [],
   "source": [
    "\"\"\" Original (qc_qiskit2cuquantum excluded) \"\"\"\n",
    "\n",
    "OPER = get_operands('cpu', datasize, x_t, n_dim)\n",
    "get_kernel_matrix_cpu(OPER, x_t, datasize, n_dim)"
   ]
  },
  {
   "cell_type": "code",
   "execution_count": null,
   "metadata": {},
   "outputs": [],
   "source": [
    "def get_kernel_matrix_gpu(OPER, x_t,datasize,n_dim):\n",
    "    kernel_matrix = cp.zeros((datasize,datasize))\n",
    "\n",
    "    _, exp, _ = qc_qiskit2cuquantum(x_t[0], x_t[0], n_dim)\n",
    "    oper, idx = OPER[0], -1\n",
    "    path, info = contract_path(exp,*oper)\n",
    "    n = NetworkOptions(blocking=\"auto\")\n",
    "    \n",
    "    t0 = time.time()\n",
    "    for i1 in range(2,datasize+1):\n",
    "        for i2 in range(1,i1):\n",
    "            idx += 1\n",
    "            amp = contract(exp, *OPER[idx], optimize = {'path' : path}, options=n)\n",
    "            kernel_matrix[i1-1][i2-1] = cp.round(cp.sqrt(cp.square(amp.real)+cp.square(amp.imag)),5)\n",
    "    kernel_matrix = kernel_matrix + kernel_matrix.T+cp.diag(cp.ones((datasize)))\n",
    "    print(\"Time = \", time.time()-t0)\n",
    "    \n",
    "    return kernel_matrix "
   ]
  },
  {
   "cell_type": "code",
   "execution_count": null,
   "metadata": {},
   "outputs": [],
   "source": [
    "\"\"\" TNs are on GPU, contract with blocking=\"auto\" \"\"\"\n",
    "\n",
    "OPER = get_operands('gpu', datasize, x_t, n_dim)\n",
    "get_kernel_matrix_gpu(OPER, x_t, datasize, n_dim)"
   ]
  },
  {
   "cell_type": "code",
   "execution_count": null,
   "metadata": {},
   "outputs": [],
   "source": [
    "def get_kernel_matrix_gpu1(OPER, x_t,datasize,n_dim):\n",
    "    kernel_matrix = cp.zeros((datasize,datasize))\n",
    "\n",
    "    _, exp, _ = qc_qiskit2cuquantum(x_t[0], x_t[0], n_dim)\n",
    "    oper, idx = OPER[0], -1\n",
    "    with Network(exp, *oper) as tn:\n",
    "        path, info = tn.contract_path()\n",
    "        t0 = time.time()\n",
    "        for i1 in range(2,datasize+1):\n",
    "            for i2 in range(1,i1):\n",
    "                idx += 1\n",
    "                tn.reset_operands(*OPER[idx])\n",
    "                amp = tn.contract()\n",
    "                kernel_matrix[i1-1][i2-1] = cp.round(cp.sqrt(cp.square(amp.real)+cp.square(amp.imag)),5)\n",
    "        kernel_matrix = kernel_matrix + kernel_matrix.T+cp.diag(cp.ones((datasize)))\n",
    "        print(\"Time = \", time.time()-t0)\n",
    "    \n",
    "    return kernel_matrix "
   ]
  },
  {
   "cell_type": "code",
   "execution_count": null,
   "metadata": {},
   "outputs": [],
   "source": [
    "\"\"\" TNs are on GPU, contract with cuquantum.Network specified (https://docs.nvidia.com/cuda/cuquantum/latest/python/api/generated/cuquantum.Network.html) \"\"\"\n",
    "\n",
    "#OPER = get_operands('gpu', datasize, x_t, n_dim)\n",
    "get_kernel_matrix_gpu1(OPER, x_t, datasize, n_dim)"
   ]
  }
 ],
 "metadata": {
  "kernelspec": {
   "display_name": "Python 3 (ipykernel)",
   "language": "python",
   "name": "python3"
  },
  "language_info": {
   "codemirror_mode": {
    "name": "ipython",
    "version": 3
   },
   "file_extension": ".py",
   "mimetype": "text/x-python",
   "name": "python",
   "nbconvert_exporter": "python",
   "pygments_lexer": "ipython3",
   "version": "3.10.13"
  }
 },
 "nbformat": 4,
 "nbformat_minor": 4
}
