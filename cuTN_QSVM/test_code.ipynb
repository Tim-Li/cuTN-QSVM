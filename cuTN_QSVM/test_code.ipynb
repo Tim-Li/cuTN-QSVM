{
 "cells": [
  {
   "cell_type": "code",
   "execution_count": 2,
   "metadata": {},
   "outputs": [],
   "source": [
    "import numpy as np\n",
    "import cupy as cp\n",
    "import pandas as pd\n",
    "import time\n",
    "import matplotlib.pyplot as plt\n",
    "from sklearn.model_selection import train_test_split\n",
    "from sklearn.decomposition import PCA\n",
    "from sklearn.preprocessing import StandardScaler\n",
    "from qiskit.circuit.library import PauliFeatureMap, ZFeatureMap, ZZFeatureMap\n",
    "from qiskit_machine_learning.kernels import QuantumKernel\n",
    "import qiskit\n",
    "from cuquantum import *\n",
    "import time"
   ]
  },
  {
   "cell_type": "markdown",
   "metadata": {},
   "source": [
    "### Get dataset"
   ]
  },
  {
   "cell_type": "code",
   "execution_count": 3,
   "metadata": {},
   "outputs": [],
   "source": [
    "traindata = pd.read_csv('../Data/fashion-mnist-data/fashion-mnist_train.csv')"
   ]
  },
  {
   "cell_type": "code",
   "execution_count": 4,
   "metadata": {},
   "outputs": [],
   "source": [
    "def data_per_class(label,ds_train,ds_test):\n",
    "    filt = (traindata['label'] == label)\n",
    "    one_class_train = traindata.loc[filt][:ds_train]\n",
    "    one_class_test  = traindata.loc[filt][ds_train:ds_train+ds_test]\n",
    "    return one_class_train, one_class_test"
   ]
  },
  {
   "cell_type": "code",
   "execution_count": 5,
   "metadata": {},
   "outputs": [
    {
     "data": {
      "text/plain": [
       "((500, 785), (50, 785))"
      ]
     },
     "execution_count": 5,
     "metadata": {},
     "output_type": "execute_result"
    }
   ],
   "source": [
    "# data_per_class function check\n",
    "num_train = 500\n",
    "num_test  = 50\n",
    "data_0_train, data_0_test = data_per_class(0,num_train,num_test)\n",
    "data_0_train.shape, data_0_test.shape"
   ]
  },
  {
   "cell_type": "code",
   "execution_count": 6,
   "metadata": {},
   "outputs": [],
   "source": [
    "def fashion_data(data0,data1,n_dim):\n",
    "    full_class = pd.concat([data0,data1]).sample(frac = 1)\n",
    "    data_full  = full_class.iloc[:,1:785] / 255.0\n",
    "    data_full  = StandardScaler().fit_transform(data_full)\n",
    "    pca        = PCA(n_components=n_dim).fit(data_full)\n",
    "    data_full  = pca.transform(data_full)   \n",
    "    label_full = pd.DataFrame([full_class.iloc[:,0]]).T\n",
    "    label_full = np.array(label_full).ravel()\n",
    "    return data_full,label_full"
   ]
  },
  {
   "cell_type": "code",
   "execution_count": 7,
   "metadata": {},
   "outputs": [],
   "source": [
    "# fashion_data function check\n",
    "n_dim = 2\n",
    "num_train = 500\n",
    "num_test  = 50\n",
    "class_lb = [0,1] \n",
    "\n",
    "data_0_train, data_0_test = data_per_class(class_lb[0],num_train,num_test)\n",
    "data_1_train, data_1_test = data_per_class(class_lb[1],num_train,num_test)"
   ]
  },
  {
   "cell_type": "code",
   "execution_count": 8,
   "metadata": {},
   "outputs": [
    {
     "name": "stdout",
     "output_type": "stream",
     "text": [
      "[0 1] [500 500]\n",
      "(1000, 2)\n"
     ]
    },
    {
     "data": {
      "text/plain": [
       "array([1, 0, 1, 0, 1, 1, 1, 0, 0, 1, 1, 1, 1, 1, 1, 1, 1, 0, 1, 0, 1, 0,\n",
       "       1, 1, 1, 0, 0, 1, 0, 0, 0, 1, 0, 0, 0, 0, 0, 1, 1, 1, 0, 1, 0, 1,\n",
       "       1, 0, 0, 1, 1, 1])"
      ]
     },
     "execution_count": 8,
     "metadata": {},
     "output_type": "execute_result"
    }
   ],
   "source": [
    "# check train data\n",
    "data_train, label_train = fashion_data(data_0_train,data_1_train,n_dim)\n",
    "unique, counts = np.unique(label_train, return_counts=True)\n",
    "print(unique, counts)\n",
    "print(data_train.shape)\n",
    "label_train[:50]"
   ]
  },
  {
   "cell_type": "code",
   "execution_count": 9,
   "metadata": {},
   "outputs": [
    {
     "name": "stdout",
     "output_type": "stream",
     "text": [
      "[0 1] [50 50]\n",
      "(100, 2)\n"
     ]
    },
    {
     "data": {
      "text/plain": [
       "array([0, 0, 0, 1, 1, 0, 1, 1, 0, 0, 0, 1, 0, 0, 1, 0, 0, 1, 1, 1, 1, 0,\n",
       "       0, 1, 1, 1, 1, 0, 1, 0, 0, 0, 1, 1, 1, 0, 0, 1, 1, 1, 1, 1, 0, 1,\n",
       "       0, 0, 0, 1, 0, 1])"
      ]
     },
     "execution_count": 9,
     "metadata": {},
     "output_type": "execute_result"
    }
   ],
   "source": [
    "# check test data\n",
    "data_test, label_test = fashion_data(data_0_test,data_1_test,n_dim)\n",
    "unique, counts = np.unique(label_test, return_counts=True)\n",
    "print(unique, counts)\n",
    "print(data_test.shape)\n",
    "label_test[:50]"
   ]
  },
  {
   "cell_type": "markdown",
   "metadata": {},
   "source": [
    "---"
   ]
  },
  {
   "cell_type": "markdown",
   "metadata": {},
   "source": [
    "### Get quantum circuit"
   ]
  },
  {
   "cell_type": "code",
   "execution_count": 10,
   "metadata": {},
   "outputs": [],
   "source": [
    "import os\n",
    "from itertools import combinations\n",
    "from multiprocessing import Pool"
   ]
  },
  {
   "cell_type": "code",
   "execution_count": 11,
   "metadata": {},
   "outputs": [
    {
     "name": "stdout",
     "output_type": "stream",
     "text": [
      "12\n"
     ]
    }
   ],
   "source": [
    "print(os.cpu_count())"
   ]
  },
  {
   "cell_type": "code",
   "execution_count": 12,
   "metadata": {},
   "outputs": [],
   "source": [
    "def get_qc_circuit(x_t1, x_t2, n_dim):\n",
    "    zz_map = ZZFeatureMap(feature_dimension=n_dim, reps=1, entanglement=\"linear\", insert_barriers=True)\n",
    "    zz_kernel = QuantumKernel(feature_map=zz_map)  \n",
    "    zz_circuit = zz_kernel.construct_circuit(x_t1,x_t2,measurement=False,is_statevector_sim=False)\n",
    "    return zz_circuit"
   ]
  },
  {
   "cell_type": "code",
   "execution_count": 13,
   "metadata": {},
   "outputs": [
    {
     "name": "stdout",
     "output_type": "stream",
     "text": [
      "[-7.00122695 -3.99144848] [-7.00122695 -3.99144848]\n"
     ]
    },
    {
     "data": {
      "image/png": "[encoded data removed]",
      "text/plain": [
       "<Figure size 705.35x284.278 with 1 Axes>"
      ]
     },
     "execution_count": 13,
     "metadata": {},
     "output_type": "execute_result"
    }
   ],
   "source": [
    "# get_qc_circuit function check\n",
    "n_dim = 2\n",
    "num_train = 20\n",
    "num_test  = 2\n",
    "class_lb = [0,1] \n",
    "\n",
    "data_0_train, data_0_test = data_per_class(class_lb[0],num_train,num_test)\n",
    "data_1_train, data_1_test = data_per_class(class_lb[1],num_train,num_test)\n",
    "data_train, label_train   = fashion_data(data_0_train,data_1_train,n_dim)\n",
    "\n",
    "qsvm_qc = get_qc_circuit(data_train[0],data_train[0],n_dim)\n",
    "print(data_train[0],data_train[0])\n",
    "qsvm_qc.decompose().draw('mpl')"
   ]
  },
  {
   "cell_type": "markdown",
   "metadata": {},
   "source": [
    "- for all qc"
   ]
  },
  {
   "cell_type": "code",
   "execution_count": 14,
   "metadata": {},
   "outputs": [],
   "source": [
    "def all_circuits(datasize, x_t, n_dim):\n",
    "    t0 = time.time()\n",
    "    \n",
    "    circuits = []\n",
    "    for i1, i2 in combinations(range(1, datasize + 1), 2):\n",
    "        cir = get_qc_circuit(x_t[i1-1], x_t[i2-1], n_dim)\n",
    "        circuits.append(cir)\n",
    "    print(\"Time =\", time.time()-t0)\n",
    "    return circuits"
   ]
  },
  {
   "cell_type": "code",
   "execution_count": 15,
   "metadata": {},
   "outputs": [
    {
     "name": "stdout",
     "output_type": "stream",
     "text": [
      "Time = 4.631723165512085\n",
      "780\n"
     ]
    },
    {
     "data": {
      "text/plain": [
       "780"
      ]
     },
     "execution_count": 15,
     "metadata": {},
     "output_type": "execute_result"
    }
   ],
   "source": [
    "# all_circuits function check \n",
    "circuits = all_circuits(num_train*2, data_train, n_dim)\n",
    "print(np.sum(np.arange(1,40)))\n",
    "len(circuits)"
   ]
  },
  {
   "cell_type": "code",
   "execution_count": 17,
   "metadata": {},
   "outputs": [],
   "source": [
    "def all_circuits_parallel(datasize, x_t, n_dim, num_cpu = 12):\n",
    "    t0 = time.time()\n",
    "\n",
    "    # Use Pool to parallelize the computation of circuits\n",
    "    with Pool(processes=num_cpu-2, maxtasksperchild=100) as pool:\n",
    "        indices_list = list(combinations(range(1, datasize + 1), 2))\n",
    "        circuits = pool.starmap(get_qc_circuit, [(x_t[i1-1], x_t[i2-1], n_dim) for i1, i2 in indices_list])\n",
    "    print(\"Time =\", time.time() - t0)\n",
    "    return circuits"
   ]
  },
  {
   "cell_type": "code",
   "execution_count": 18,
   "metadata": {},
   "outputs": [
    {
     "name": "stdout",
     "output_type": "stream",
     "text": [
      "Time = 1.644298791885376\n",
      "780\n"
     ]
    },
    {
     "data": {
      "text/plain": [
       "780"
      ]
     },
     "execution_count": 18,
     "metadata": {},
     "output_type": "execute_result"
    }
   ],
   "source": [
    "# all_circuits_parallel function check \n",
    "circuits_p = all_circuits_parallel(num_train*2, data_train, n_dim)\n",
    "print(np.sum(np.arange(1,40)))\n",
    "len(circuits_p)"
   ]
  },
  {
   "cell_type": "markdown",
   "metadata": {},
   "source": [
    "---"
   ]
  },
  {
   "cell_type": "markdown",
   "metadata": {},
   "source": [
    "### Get all operands"
   ]
  },
  {
   "cell_type": "code",
   "execution_count": 19,
   "metadata": {},
   "outputs": [],
   "source": [
    "def get_path(circuit):\n",
    "    converter = CircuitToEinsum(circuit, backend='numpy')\n",
    "    a = str(0).zfill(n_dim)\n",
    "    exp, oper = converter.amplitude(a)  \n",
    "    return exp, oper"
   ]
  },
  {
   "cell_type": "code",
   "execution_count": 27,
   "metadata": {},
   "outputs": [
    {
     "name": "stdout",
     "output_type": "stream",
     "text": [
      "Time = 4.108287334442139\n"
     ]
    }
   ],
   "source": [
    "circuits = all_circuits(num_train*2, data_train, n_dim)\n",
    "_, oper = get_path(circuits[0])"
   ]
  },
  {
   "cell_type": "code",
   "execution_count": 30,
   "metadata": {},
   "outputs": [],
   "source": [
    "def all_operands(all_circuits,datasize):\n",
    "    t0 = time.time()\n",
    "    \n",
    "    operands = []\n",
    "    i = -1\n",
    "    for i1 in range(2,datasize+1):\n",
    "        for i2 in range(1,i1):\n",
    "            i += 1\n",
    "            _, oper = get_path(all_circuits[i])\n",
    "            oper_gpu = [cp.asarray(tensor) for tensor in oper]\n",
    "            operands.append(oper_gpu)\n",
    "    print(\"Time =\", time.time()-t0)\n",
    "    \n",
    "    return operands"
   ]
  },
  {
   "cell_type": "code",
   "execution_count": 42,
   "metadata": {},
   "outputs": [
    {
     "name": "stdout",
     "output_type": "stream",
     "text": [
      "all_circuits + all_operands\n",
      "Time = 4.372447967529297\n",
      "Time = 7.375977277755737\n"
     ]
    }
   ],
   "source": [
    "# check all_operands with all_circuits\n",
    "print('all_circuits + all_operands')\n",
    "circuits = all_circuits(num_train*2, data_train, n_dim)\n",
    "operands = all_operands(circuits,num_train*2)"
   ]
  },
  {
   "cell_type": "code",
   "execution_count": 64,
   "metadata": {},
   "outputs": [
    {
     "name": "stdout",
     "output_type": "stream",
     "text": [
      "all_circuits_parallel + all_operands\n",
      "Time = 2.3623592853546143\n",
      "Time = 6.4214558601379395\n"
     ]
    }
   ],
   "source": [
    "# check all_operands with all_circuits_p\n",
    "print('all_circuits_parallel + all_operands')\n",
    "circuits_p = all_circuits_parallel(num_train*2, data_train, n_dim)\n",
    "operands = all_operands(circuits_p,num_train*2)"
   ]
  },
  {
   "cell_type": "code",
   "execution_count": 38,
   "metadata": {},
   "outputs": [],
   "source": [
    "def all_operands_parallel(all_circuits,num_cpu = 12):\n",
    "    t0 = time.time()\n",
    "\n",
    "    # Use Pool to parallelize the computation of operands\n",
    "    with Pool(processes=num_cpu-2, maxtasksperchild=100) as pool:\n",
    "        results = pool.map(get_path, all_circuits)\n",
    "\n",
    "    operands = [[cp.asarray(tensor) for tensor in oper] for _, oper in results]\n",
    "    print(\"Time =\", time.time() - t0)\n",
    "\n",
    "    return operands"
   ]
  },
  {
   "cell_type": "code",
   "execution_count": 44,
   "metadata": {},
   "outputs": [
    {
     "name": "stdout",
     "output_type": "stream",
     "text": [
      "all_circuits + all_operands_parallel\n",
      "Time = 5.730175971984863\n",
      "Time = 3.7453508377075195\n"
     ]
    }
   ],
   "source": [
    "# check all_operands_p with all_circuits\n",
    "print('all_circuits + all_operands_parallel')\n",
    "circuits = all_circuits(num_train*2, data_train, n_dim)\n",
    "operands_p = all_operands_parallel(circuits,num_train*2)"
   ]
  },
  {
   "cell_type": "code",
   "execution_count": 65,
   "metadata": {},
   "outputs": [
    {
     "name": "stdout",
     "output_type": "stream",
     "text": [
      "all_circuits_parallel + all_operands_parallel\n",
      "Time = 2.580517053604126\n",
      "Time = 3.6764023303985596\n"
     ]
    }
   ],
   "source": [
    "# check all_operands_p with all_circuits_p\n",
    "print('all_circuits_parallel + all_operands_parallel')\n",
    "circuits_p = all_circuits_parallel(num_train*2, data_train, n_dim)\n",
    "operands_p = all_operands_parallel(circuits_p,num_train*2)"
   ]
  },
  {
   "cell_type": "markdown",
   "metadata": {},
   "source": [
    "---"
   ]
  },
  {
   "cell_type": "markdown",
   "metadata": {},
   "source": [
    "### Get kernel matrix"
   ]
  },
  {
   "cell_type": "code",
   "execution_count": 57,
   "metadata": {},
   "outputs": [],
   "source": [
    "from sklearn.svm import SVC"
   ]
  },
  {
   "cell_type": "code",
   "execution_count": 47,
   "metadata": {},
   "outputs": [],
   "source": [
    "def get_kernel_matrix_gpu(operands,x_t,datasize,n_dim):\n",
    "    kernel_matrix = cp.zeros((datasize,datasize))\n",
    "\n",
    "    circuit = get_qc_circuit(x_t[0], x_t[0], n_dim)\n",
    "    exp, _ = get_path(circuit)\n",
    "    oper, i = operands[0], -1\n",
    "    with Network(exp, *oper) as tn:\n",
    "        path, info = tn.contract_path()\n",
    "        t0 = time.time()\n",
    "        for i1 in range(2,datasize+1):\n",
    "            for i2 in range(1,i1):\n",
    "                i += 1\n",
    "                tn.reset_operands(*operands[i])\n",
    "                amp = tn.contract()\n",
    "                kernel_matrix[i1-1][i2-1] = cp.round(cp.sqrt(cp.square(amp.real)+cp.square(amp.imag)),5)\n",
    "        kernel_matrix = kernel_matrix + kernel_matrix.T+cp.diag(cp.ones((datasize)))\n",
    "        print(\"Time = \", time.time()-t0)\n",
    "    \n",
    "    return kernel_matrix"
   ]
  },
  {
   "cell_type": "code",
   "execution_count": 66,
   "metadata": {},
   "outputs": [
    {
     "name": "stdout",
     "output_type": "stream",
     "text": [
      "Time = 2.459721088409424\n",
      "Time = 4.2039079666137695\n",
      "Time =  1.157463550567627\n"
     ]
    }
   ],
   "source": [
    "# for train\n",
    "circuits_p = all_circuits_parallel(num_train*2, data_train, n_dim)\n",
    "operands_p = all_operands_parallel(circuits_p,num_train*2)\n",
    "kernel_matrix_train = get_kernel_matrix_gpu(operands_p, data_train, num_train*2, n_dim)"
   ]
  },
  {
   "cell_type": "code",
   "execution_count": 80,
   "metadata": {},
   "outputs": [
    {
     "name": "stdout",
     "output_type": "stream",
     "text": [
      "Precomputed kernel classification train score: 0.55\n"
     ]
    }
   ],
   "source": [
    "adhoc_svc = SVC(kernel=\"precomputed\")\n",
    "adhoc_svc.fit(kernel_matrix_train.get(), label_train)\n",
    "adhoc_score_precomputed_kernel = adhoc_svc.score(kernel_matrix_train.get(), label_train)\n",
    "print(f\"Precomputed kernel classification train score: {adhoc_score_precomputed_kernel}\")"
   ]
  },
  {
   "cell_type": "markdown",
   "metadata": {},
   "source": [
    "---"
   ]
  },
  {
   "cell_type": "markdown",
   "metadata": {},
   "source": [
    "### full code"
   ]
  },
  {
   "cell_type": "code",
   "execution_count": 85,
   "metadata": {},
   "outputs": [
    {
     "name": "stdout",
     "output_type": "stream",
     "text": [
      "num of cpu： 12\n"
     ]
    }
   ],
   "source": [
    "import numpy as np\n",
    "import cupy as cp\n",
    "import pandas as pd\n",
    "import time\n",
    "import matplotlib.pyplot as plt\n",
    "from sklearn.model_selection import train_test_split\n",
    "from sklearn.decomposition import PCA\n",
    "from sklearn.preprocessing import StandardScaler\n",
    "from qiskit.circuit.library import PauliFeatureMap, ZFeatureMap, ZZFeatureMap\n",
    "from qiskit_machine_learning.kernels import QuantumKernel\n",
    "import qiskit\n",
    "from cuquantum import *\n",
    "import time\n",
    "import os\n",
    "from itertools import combinations\n",
    "from multiprocessing import Pool\n",
    "from sklearn.svm import SVC\n",
    "print('num of cpu：',os.cpu_count())"
   ]
  },
  {
   "cell_type": "code",
   "execution_count": 86,
   "metadata": {},
   "outputs": [],
   "source": [
    "traindata = pd.read_csv('../Data/fashion-mnist-data/fashion-mnist_train.csv')"
   ]
  },
  {
   "cell_type": "code",
   "execution_count": 101,
   "metadata": {},
   "outputs": [],
   "source": [
    "# data\n",
    "def data_per_class(label,ds_train,ds_test):\n",
    "    filt = (traindata['label'] == label)\n",
    "    one_class_train = traindata.loc[filt][:ds_train]\n",
    "    one_class_test  = traindata.loc[filt][ds_train:ds_train+ds_test]\n",
    "    return one_class_train, one_class_test\n",
    "def fashion_data(data0,data1,n_dim):\n",
    "    full_class = pd.concat([data0,data1]).sample(frac = 1)\n",
    "    data_full  = full_class.iloc[:,1:785] / 255.0\n",
    "    data_full  = StandardScaler().fit_transform(data_full)\n",
    "    pca        = PCA(n_components=n_dim).fit(data_full)\n",
    "    data_full  = pca.transform(data_full)   \n",
    "    label_full = pd.DataFrame([full_class.iloc[:,0]]).T\n",
    "    label_full = np.array(label_full).ravel()\n",
    "    return data_full,label_full\n",
    "\n",
    "# quantum circuit\n",
    "def get_qc_circuit(x_t1, x_t2, n_dim):\n",
    "    zz_map = ZZFeatureMap(feature_dimension=n_dim, reps=1, entanglement=\"linear\", insert_barriers=True)\n",
    "    zz_kernel = QuantumKernel(feature_map=zz_map)\n",
    "    zz_circuit = zz_kernel.construct_circuit(x_t1,x_t2,measurement=False,is_statevector_sim=False)   \n",
    "    return zz_circuit\n",
    "def all_circuits(datasize, x_t, n_dim):\n",
    "    t0 = time.time()\n",
    "    circuits = []\n",
    "    for i1, i2 in combinations(range(1, datasize + 1), 2):\n",
    "        cir = get_qc_circuit(x_t[i1-1], x_t[i2-1], n_dim)\n",
    "        circuits.append(cir)\n",
    "    print(\"all_circuits time =\", time.time()-t0)\n",
    "    return circuits\n",
    "def all_circuits_parallel(datasize, x_t, n_dim, num_cpu):\n",
    "    t0 = time.time()\n",
    "    # Use Pool to parallelize the computation of circuits\n",
    "    with Pool(processes=num_cpu-2, maxtasksperchild=100) as pool:\n",
    "        indices_list = list(combinations(range(1, datasize + 1), 2))\n",
    "        circuits = pool.starmap(get_qc_circuit, [(x_t[i1-1], x_t[i2-1], n_dim) for i1, i2 in indices_list])\n",
    "    print(\"all_circuits parallel time =\", time.time() - t0)\n",
    "    return circuits\n",
    "\n",
    "# operands\n",
    "def get_path(circuit):\n",
    "    converter = CircuitToEinsum(circuit, backend='numpy')\n",
    "    a = str(0).zfill(n_dim)\n",
    "    exp, oper = converter.amplitude(a)  \n",
    "    return exp, oper\n",
    "def all_operands(all_circuits,datasize):\n",
    "    t0 = time.time()\n",
    "    operands = []\n",
    "    i = -1\n",
    "    for i1 in range(2,datasize+1):\n",
    "        for i2 in range(1,i1):\n",
    "            i += 1\n",
    "            _, oper = get_path(all_circuits[i])\n",
    "            oper_gpu = [cp.asarray(tensor) for tensor in oper]\n",
    "            operands.append(oper_gpu)\n",
    "    print(\"all_operands time =\", time.time()-t0)\n",
    "    return operands\n",
    "def all_operands_parallel(all_circuits,num_cpu):\n",
    "    t0 = time.time()\n",
    "    # Use Pool to parallelize the computation of operands\n",
    "    with Pool(processes=num_cpu-2, maxtasksperchild=100) as pool:\n",
    "        results = pool.map(get_path, all_circuits)\n",
    "\n",
    "    operands = [[cp.asarray(tensor) for tensor in oper] for _, oper in results]\n",
    "    print(\"all_operands parallel time =\", time.time() - t0)\n",
    "    return operands\n",
    "\n",
    "# kernel_matrix\n",
    "def get_kernel_matrix_gpu(operands,x_t,datasize,n_dim):\n",
    "    kernel_matrix = cp.zeros((datasize,datasize))\n",
    "    circuit = get_qc_circuit(x_t[0], x_t[0], n_dim)\n",
    "    exp, _ = get_path(circuit)\n",
    "    oper, i = operands[0], -1\n",
    "    with Network(exp, *oper) as tn:\n",
    "        path, info = tn.contract_path()\n",
    "        t0 = time.time()\n",
    "        for i1 in range(2,datasize+1):\n",
    "            for i2 in range(1,i1):\n",
    "                i += 1\n",
    "                tn.reset_operands(*operands[i])\n",
    "                amp = tn.contract()\n",
    "                kernel_matrix[i1-1][i2-1] = cp.round(cp.sqrt(cp.square(amp.real)+cp.square(amp.imag)),5)\n",
    "        kernel_matrix = kernel_matrix + kernel_matrix.T+cp.diag(cp.ones((datasize)))\n",
    "        print(\"get_kernel_matrix time = \", time.time()-t0)\n",
    "    return kernel_matrix"
   ]
  },
  {
   "cell_type": "code",
   "execution_count": 102,
   "metadata": {},
   "outputs": [
    {
     "name": "stdout",
     "output_type": "stream",
     "text": [
      "normal code\n",
      "all_circuits time = 4.970102310180664\n",
      "all_operands time = 6.896878719329834\n",
      "get_kernel_matrix time =  1.2241313457489014\n",
      "Precomputed kernel classification train score: 0.625\n"
     ]
    }
   ],
   "source": [
    "# normal code\n",
    "print('normal code')\n",
    "num_cpu = None\n",
    "num_train = 20\n",
    "num_test  = 2\n",
    "class_lb = [0,1]\n",
    "n_dim = 2\n",
    "\n",
    "data_0_train, data_0_test = data_per_class(class_lb[0],num_train,num_test)\n",
    "data_1_train, data_1_test = data_per_class(class_lb[1],num_train,num_test)\n",
    "data_train, label_train   = fashion_data(data_0_train,data_1_train,n_dim)\n",
    "circuits = all_circuits(num_train*2,data_train,n_dim)\n",
    "operands = all_operands(circuits,num_train*2)\n",
    "kernel_matrix_train = get_kernel_matrix_gpu(operands,data_train,num_train*2,n_dim)\n",
    "adhoc_svc = SVC(kernel=\"precomputed\")\n",
    "adhoc_svc.fit(kernel_matrix_train.get(),label_train)\n",
    "adhoc_score_precomputed_kernel = adhoc_svc.score(kernel_matrix_train.get(),label_train)\n",
    "print(f\"Precomputed kernel classification train score: {adhoc_score_precomputed_kernel}\")"
   ]
  },
  {
   "cell_type": "code",
   "execution_count": 104,
   "metadata": {},
   "outputs": [
    {
     "name": "stdout",
     "output_type": "stream",
     "text": [
      "acc code\n",
      "all_circuits parallel time = 2.154114246368408\n",
      "all_operands parallel time = 2.954716444015503\n",
      "get_kernel_matrix time =  1.298703908920288\n",
      "Precomputed kernel classification train score: 0.425\n"
     ]
    }
   ],
   "source": [
    "# acc code\n",
    "print('acc code')\n",
    "num_cpu = 12\n",
    "num_train = 20\n",
    "num_test  = 2\n",
    "class_lb = [0,1]\n",
    "n_dim = 2\n",
    "\n",
    "data_0_train, data_0_test = data_per_class(class_lb[0],num_train,num_test)\n",
    "data_1_train, data_1_test = data_per_class(class_lb[1],num_train,num_test)\n",
    "data_train, label_train   = fashion_data(data_0_train,data_1_train,n_dim)\n",
    "circuits_p = all_circuits_parallel(num_train*2,data_train,n_dim,num_cpu)\n",
    "operands_p = all_operands_parallel(circuits_p,num_cpu)\n",
    "kernel_matrix_train = get_kernel_matrix_gpu(operands_p, data_train, num_train*2, n_dim)\n",
    "adhoc_svc = SVC(kernel=\"precomputed\")\n",
    "adhoc_svc.fit(kernel_matrix_train.get(), label_train)\n",
    "adhoc_score_precomputed_kernel = adhoc_svc.score(kernel_matrix_train.get(), label_train)\n",
    "print(f\"Precomputed kernel classification train score: {adhoc_score_precomputed_kernel}\")"
   ]
  },
  {
   "cell_type": "markdown",
   "metadata": {},
   "source": [
    "---"
   ]
  },
  {
   "cell_type": "markdown",
   "metadata": {},
   "source": [
    "### exp1 code"
   ]
  },
  {
   "cell_type": "code",
   "execution_count": 105,
   "metadata": {},
   "outputs": [
    {
     "name": "stdout",
     "output_type": "stream",
     "text": [
      "12\n"
     ]
    }
   ],
   "source": [
    "import numpy as np\n",
    "import cupy as cp\n",
    "import pandas as pd\n",
    "import time\n",
    "import matplotlib.pyplot as plt\n",
    "from sklearn.model_selection import train_test_split\n",
    "from sklearn.decomposition import PCA\n",
    "from sklearn.preprocessing import StandardScaler\n",
    "from qiskit.circuit.library import PauliFeatureMap, ZFeatureMap, ZZFeatureMap\n",
    "from qiskit_machine_learning.kernels import QuantumKernel\n",
    "import qiskit\n",
    "from cuquantum import *\n",
    "import time\n",
    "import os\n",
    "from itertools import combinations\n",
    "from multiprocessing import Pool\n",
    "from sklearn.svm import SVC\n",
    "print(os.cpu_count())"
   ]
  },
  {
   "cell_type": "code",
   "execution_count": 106,
   "metadata": {},
   "outputs": [],
   "source": [
    "traindata = pd.read_csv('../Data/fashion-mnist-data/fashion-mnist_train.csv')"
   ]
  },
  {
   "cell_type": "code",
   "execution_count": 107,
   "metadata": {},
   "outputs": [],
   "source": [
    "# data\n",
    "def data_per_class(label,ds_train,ds_test):\n",
    "    filt = (traindata['label'] == label)\n",
    "    one_class_train = traindata.loc[filt][:ds_train]\n",
    "    one_class_test  = traindata.loc[filt][ds_train:ds_train+ds_test]\n",
    "    return one_class_train, one_class_test\n",
    "def fashion_data(data0,data1,n_dim):\n",
    "    full_class = pd.concat([data0,data1]).sample(frac = 1)\n",
    "    data_full  = full_class.iloc[:,1:785] / 255.0\n",
    "    data_full  = StandardScaler().fit_transform(data_full)\n",
    "    pca        = PCA(n_components=n_dim).fit(data_full)\n",
    "    data_full  = pca.transform(data_full)   \n",
    "    label_full = pd.DataFrame([full_class.iloc[:,0]]).T\n",
    "    label_full = np.array(label_full).ravel()\n",
    "    return data_full,label_full\n",
    "\n",
    "# quantum circuit\n",
    "def get_qc_circuit(x_t1, x_t2, n_dim):\n",
    "    zz_map = ZZFeatureMap(feature_dimension=n_dim, reps=1, entanglement=\"linear\", insert_barriers=True)\n",
    "    zz_kernel = QuantumKernel(feature_map=zz_map)\n",
    "    zz_circuit = zz_kernel.construct_circuit(x_t1,x_t2,measurement=False,is_statevector_sim=False)   \n",
    "    return zz_circuit\n",
    "def all_circuits(datasize, x_t, n_dim):\n",
    "    circuits = []\n",
    "    for i1, i2 in combinations(range(1, datasize + 1), 2):\n",
    "        cir = get_qc_circuit(x_t[i1-1], x_t[i2-1], n_dim)\n",
    "        circuits.append(cir)\n",
    "    return circuits\n",
    "def all_circuits_parallel(datasize, x_t, n_dim, num_cpu):\n",
    "    # Use Pool to parallelize the computation of circuits\n",
    "    with Pool(processes=num_cpu-2, maxtasksperchild=100) as pool:\n",
    "        indices_list = list(combinations(range(1, datasize + 1), 2))\n",
    "        circuits = pool.starmap(get_qc_circuit, [(x_t[i1-1], x_t[i2-1], n_dim) for i1, i2 in indices_list])\n",
    "    all_circuits_parallel_t = time.time()-t0\n",
    "    return circuits\n",
    "\n",
    "# operands\n",
    "def get_path(circuit):\n",
    "    converter = CircuitToEinsum(circuit, backend='numpy')\n",
    "    a = str(0).zfill(n_dim)\n",
    "    exp, oper = converter.amplitude(a)  \n",
    "    return exp, oper\n",
    "def all_operands(all_circuits,datasize):\n",
    "    operands = []\n",
    "    i = -1\n",
    "    for i1 in range(2,datasize+1):\n",
    "        for i2 in range(1,i1):\n",
    "            i += 1\n",
    "            _, oper = get_path(all_circuits[i])\n",
    "            oper_gpu = [cp.asarray(tensor) for tensor in oper]\n",
    "            operands.append(oper_gpu)\n",
    "    return operands\n",
    "def all_operands_parallel(all_circuits,num_cpu):\n",
    "    # Use Pool to parallelize the computation of operands\n",
    "    with Pool(processes=num_cpu-2, maxtasksperchild=100) as pool:\n",
    "        results = pool.map(get_path, all_circuits)\n",
    "\n",
    "    operands = [[cp.asarray(tensor) for tensor in oper] for _, oper in results]\n",
    "    return operands\n",
    "\n",
    "# kernel_matrix\n",
    "def get_kernel_matrix_gpu(operands,x_t,datasize,n_dim):\n",
    "    kernel_matrix = cp.zeros((datasize,datasize))\n",
    "    circuit = get_qc_circuit(x_t[0], x_t[0], n_dim)\n",
    "    exp, _ = get_path(circuit)\n",
    "    oper, i = operands[0], -1\n",
    "    with Network(exp, *oper) as tn:\n",
    "        path, info = tn.contract_path()\n",
    "        for i1 in range(2,datasize+1):\n",
    "            for i2 in range(1,i1):\n",
    "                i += 1\n",
    "                tn.reset_operands(*operands[i])\n",
    "                amp = tn.contract()\n",
    "                kernel_matrix[i1-1][i2-1] = cp.round(cp.sqrt(cp.square(amp.real)+cp.square(amp.imag)),5)\n",
    "        kernel_matrix = kernel_matrix + kernel_matrix.T+cp.diag(cp.ones((datasize)))\n",
    "    return kernel_matrix\n"
   ]
  },
  {
   "cell_type": "code",
   "execution_count": 115,
   "metadata": {},
   "outputs": [
    {
     "name": "stdout",
     "output_type": "stream",
     "text": [
      "normal code\n",
      "[2, 0.65, 0.05694293975830078, 5.501977920532227, 7.725270748138428, 1.3856117725372314, 14.672897815704346]\n",
      "[3, 0.5, 0.04974818229675293, 6.22922945022583, 8.36946177482605, 2.3480992317199707, 16.99894094467163]\n",
      "done\n"
     ]
    }
   ],
   "source": [
    "# start\n",
    "## normal code\n",
    "print('normal code')\n",
    "num_cpu = None\n",
    "num_train = 20\n",
    "num_test  = 2\n",
    "class_lb = [0,1]\n",
    "svc = SVC(kernel=\"precomputed\")\n",
    "data_0_train, data_0_test = data_per_class(class_lb[0],num_train,num_test)\n",
    "data_1_train, data_1_test = data_per_class(class_lb[1],num_train,num_test)\n",
    "\n",
    "runtime_data = pd.DataFrame([['q','score','data_t','circuits_t','operands_t','kernel_matrix_t','total_t']])\n",
    "runtime_data.to_csv(\"normal_code.csv\", index=False,header=None,mode='a')\n",
    "for q in range(2,4):\n",
    "    n_dim=q\n",
    "    tf = time.time()\n",
    "    t0 = time.time()\n",
    "    data_train, label_train = fashion_data(data_0_train,data_1_train,n_dim)\n",
    "    data_t = time.time()-t0\n",
    "    t0 = time.time()\n",
    "    circuits = all_circuits(num_train*2,data_train,n_dim)\n",
    "    circuits_t = time.time()-t0\n",
    "    t0 = time.time()\n",
    "    operands = all_operands(circuits,num_train*2)\n",
    "    operands_t = time.time()-t0\n",
    "    t0 = time.time()\n",
    "    kernel_matrix_train = get_kernel_matrix_gpu(operands,data_train,num_train*2,n_dim)\n",
    "    kernel_matrix_t = time.time()-t0\n",
    "    svc.fit(kernel_matrix_train.get(),label_train)\n",
    "    score = svc.score(kernel_matrix_train.get(),label_train)\n",
    "    total_t = time.time()-tf\n",
    "    print([q,score,data_t,circuits_t,operands_t,kernel_matrix_t,total_t])\n",
    "    runtime_data = pd.DataFrame([[q,score,data_t,circuits_t,operands_t,kernel_matrix_t,total_t]])\n",
    "    runtime_data.to_csv(\"normal_code.csv\", index=False,header=None,mode='a')\n",
    "print('done')"
   ]
  },
  {
   "cell_type": "code",
   "execution_count": 116,
   "metadata": {},
   "outputs": [
    {
     "name": "stdout",
     "output_type": "stream",
     "text": [
      "acc code\n",
      "[2, 0.55, 0.026978015899658203, 2.531381130218506, 3.1913678646087646, 1.1622629165649414, 6.915395021438599]\n",
      "[3, 0.65, 0.036128997802734375, 2.8545100688934326, 6.809202432632446, 1.807952880859375, 11.511274814605713]\n",
      "done\n"
     ]
    }
   ],
   "source": [
    "# start\n",
    "## acc code\n",
    "print('acc code')\n",
    "num_cpu = 12\n",
    "num_train = 20\n",
    "num_test  = 2\n",
    "class_lb = [0,1]\n",
    "svc = SVC(kernel=\"precomputed\")\n",
    "data_0_train, data_0_test = data_per_class(class_lb[0],num_train,num_test)\n",
    "data_1_train, data_1_test = data_per_class(class_lb[1],num_train,num_test)\n",
    "\n",
    "runtime_data = pd.DataFrame([['q','score','data_t','circuits_t','operands_t','kernel_matrix_t','total_t']])\n",
    "runtime_data.to_csv(\"acc_code.csv\", index=False,header=None,mode='a')\n",
    "for q in range(2,4):\n",
    "    n_dim=q\n",
    "    tf = time.time()\n",
    "    t0 = time.time()\n",
    "    data_train, label_train = fashion_data(data_0_train,data_1_train,n_dim)\n",
    "    data_t = time.time()-t0\n",
    "    t0 = time.time()\n",
    "    circuits_p = all_circuits_parallel(num_train*2,data_train,n_dim,num_cpu)\n",
    "    circuits_t = time.time()-t0\n",
    "    t0 = time.time()\n",
    "    operands_p = all_operands_parallel(circuits_p,num_cpu)\n",
    "    operands_t = time.time()-t0\n",
    "    t0 = time.time()\n",
    "    kernel_matrix_train = get_kernel_matrix_gpu(operands_p,data_train,num_train*2,n_dim)\n",
    "    kernel_matrix_t = time.time()-t0\n",
    "    svc.fit(kernel_matrix_train.get(),label_train)\n",
    "    score = svc.score(kernel_matrix_train.get(),label_train)\n",
    "    total_t = time.time()-tf\n",
    "    print([q,score,data_t,circuits_t,operands_t,kernel_matrix_t,total_t])\n",
    "    runtime_data = pd.DataFrame([[q,score,data_t,circuits_t,operands_t,kernel_matrix_t,total_t]])\n",
    "    runtime_data.to_csv(\"acc_code.csv\", index=False,header=None,mode='a')\n",
    "print('done')"
   ]
  }
 ],
 "metadata": {
  "kernelspec": {
   "display_name": "qiskit",
   "language": "python",
   "name": "python3"
  },
  "language_info": {
   "codemirror_mode": {
    "name": "ipython",
    "version": 3
   },
   "file_extension": ".py",
   "mimetype": "text/x-python",
   "name": "python",
   "nbconvert_exporter": "python",
   "pygments_lexer": "ipython3",
   "version": "3.9.undefined"
  }
 },
 "nbformat": 4,
 "nbformat_minor": 2
}
