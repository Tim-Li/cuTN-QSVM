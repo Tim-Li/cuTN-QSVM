{
 "cells": [
  {
   "cell_type": "code",
   "execution_count": 2,
   "metadata": {},
   "outputs": [],
   "source": [
    "import numpy as np\n",
    "import cupy as cp\n",
    "import pandas as pd\n",
    "import time\n",
    "import matplotlib.pyplot as plt\n",
    "from sklearn.model_selection import train_test_split\n",
    "from sklearn.decomposition import PCA\n",
    "from sklearn.preprocessing import StandardScaler\n",
    "from qiskit.circuit.library import PauliFeatureMap, ZFeatureMap, ZZFeatureMap\n",
    "from qiskit_machine_learning.kernels import QuantumKernel\n",
    "import qiskit\n",
    "import cuquantum\n",
    "# from cuquantum import *\n",
    "import time\n",
    "import opt_einsum"
   ]
  },
  {
   "cell_type": "code",
   "execution_count": 3,
   "metadata": {},
   "outputs": [],
   "source": [
    "traindata = pd.read_csv('../Data/fashion-mnist-data/fashion-mnist_train.csv')"
   ]
  },
  {
   "cell_type": "code",
   "execution_count": 4,
   "metadata": {},
   "outputs": [],
   "source": [
    "def data_per_class(label,ds_train,ds_test):\n",
    "    filt = (traindata['label'] == label)\n",
    "    one_class_train = traindata.loc[filt][:ds_train]\n",
    "    one_class_test  = traindata.loc[filt][ds_train:ds_train+ds_test]\n",
    "    return one_class_train, one_class_test"
   ]
  },
  {
   "cell_type": "code",
   "execution_count": 5,
   "metadata": {},
   "outputs": [],
   "source": [
    "def fashion_data(data0,data1,n_dim):\n",
    "    full_class = pd.concat([data0,data1]).sample(frac = 1)\n",
    "    data_full  = full_class.iloc[:,1:785] / 255.0\n",
    "    data_full  = StandardScaler().fit_transform(data_full)\n",
    "    pca        = PCA(n_components=n_dim).fit(data_full)\n",
    "    data_full  = pca.transform(data_full)   \n",
    "    label_full = pd.DataFrame([full_class.iloc[:,0]]).T\n",
    "    label_full = np.array(label_full).ravel()\n",
    "    return data_full,label_full"
   ]
  },
  {
   "cell_type": "code",
   "execution_count": 6,
   "metadata": {},
   "outputs": [],
   "source": [
    "# fashion_data function check\n",
    "n_dim = 100\n",
    "num_train = 500\n",
    "num_test  = 50\n",
    "class_lb = [0,1] \n",
    "\n",
    "data_0_train, data_0_test = data_per_class(class_lb[0],num_train,num_test)\n",
    "data_1_train, data_1_test = data_per_class(class_lb[1],num_train,num_test)"
   ]
  },
  {
   "cell_type": "code",
   "execution_count": 7,
   "metadata": {},
   "outputs": [
    {
     "name": "stdout",
     "output_type": "stream",
     "text": [
      "[0 1] [500 500]\n",
      "(1000, 100)\n"
     ]
    },
    {
     "data": {
      "text/plain": [
       "array([0, 1, 1, 0, 0, 1, 0, 1, 0, 1, 1, 0, 1, 1, 0, 0, 1, 0, 0, 0, 0, 1,\n",
       "       0, 1, 1, 1, 1, 0, 1, 1, 1, 1, 0, 0, 0, 0, 1, 0, 1, 0, 0, 1, 1, 0,\n",
       "       0, 1, 0, 1, 0, 0])"
      ]
     },
     "execution_count": 7,
     "metadata": {},
     "output_type": "execute_result"
    }
   ],
   "source": [
    "# check train data\n",
    "data_train, label_train = fashion_data(data_0_train,data_1_train,n_dim)\n",
    "unique, counts = np.unique(label_train, return_counts=True)\n",
    "print(unique, counts)\n",
    "print(data_train.shape)\n",
    "label_train[:50]"
   ]
  },
  {
   "cell_type": "code",
   "execution_count": 8,
   "metadata": {},
   "outputs": [
    {
     "name": "stdout",
     "output_type": "stream",
     "text": [
      "[0 1] [50 50]\n",
      "(100, 100)\n"
     ]
    },
    {
     "data": {
      "text/plain": [
       "array([1, 0, 0, 0, 0, 1, 0, 0, 1, 1, 0, 0, 1, 1, 1, 0, 0, 1, 0, 1, 0, 1,\n",
       "       1, 0, 1, 1, 1, 1, 1, 1, 1, 0, 0, 1, 1, 1, 0, 0, 1, 1, 1, 0, 0, 1,\n",
       "       1, 1, 1, 0, 0, 0])"
      ]
     },
     "execution_count": 8,
     "metadata": {},
     "output_type": "execute_result"
    }
   ],
   "source": [
    "# check test data\n",
    "data_test, label_test = fashion_data(data_0_test,data_1_test,n_dim)\n",
    "unique, counts = np.unique(label_test, return_counts=True)\n",
    "print(unique, counts)\n",
    "print(data_test.shape)\n",
    "label_test[:50]"
   ]
  },
  {
   "cell_type": "markdown",
   "metadata": {},
   "source": [
    "---"
   ]
  },
  {
   "cell_type": "code",
   "execution_count": 39,
   "metadata": {},
   "outputs": [
    {
     "name": "stdout",
     "output_type": "stream",
     "text": [
      "32\n"
     ]
    }
   ],
   "source": [
    "import os\n",
    "from itertools import combinations,product\n",
    "from multiprocessing import Pool\n",
    "print(os.cpu_count())"
   ]
  },
  {
   "cell_type": "code",
   "execution_count": 10,
   "metadata": {},
   "outputs": [],
   "source": [
    "def get_qc_circuit(x_t1, x_t2, n_dim):\n",
    "    zz_map = ZZFeatureMap(feature_dimension=n_dim, reps=1, entanglement=\"linear\", insert_barriers=True)\n",
    "    zz_kernel = QuantumKernel(feature_map=zz_map)  \n",
    "    zz_circuit = zz_kernel.construct_circuit(x_t1,x_t2,measurement=False,is_statevector_sim=False)\n",
    "    return zz_circuit"
   ]
  },
  {
   "cell_type": "code",
   "execution_count": 11,
   "metadata": {},
   "outputs": [
    {
     "name": "stdout",
     "output_type": "stream",
     "text": [
      "[-5.66374927 28.87321313] [-5.66374927 28.87321313]\n"
     ]
    },
    {
     "data": {
      "image/png": "[encoded data removed]",
      "text/plain": [
       "<Figure size 705.35x284.278 with 1 Axes>"
      ]
     },
     "execution_count": 11,
     "metadata": {},
     "output_type": "execute_result"
    }
   ],
   "source": [
    "# get_qc_circuit function check\n",
    "n_dim = 2\n",
    "num_train = 20\n",
    "num_test  = 2\n",
    "class_lb = [0,1] \n",
    "\n",
    "data_0_train, data_0_test = data_per_class(class_lb[0],num_train,num_test)\n",
    "data_1_train, data_1_test = data_per_class(class_lb[1],num_train,num_test)\n",
    "data_train, label_train   = fashion_data(data_0_train,data_1_train,n_dim)\n",
    "data_test, label_test     = fashion_data(data_0_test,data_1_test,n_dim)\n",
    "\n",
    "qsvm_qc = get_qc_circuit(data_train[0],data_train[0],n_dim)\n",
    "print(data_train[0],data_train[0])\n",
    "qsvm_qc.decompose().draw('mpl')"
   ]
  },
  {
   "cell_type": "code",
   "execution_count": 12,
   "metadata": {},
   "outputs": [],
   "source": [
    "def all_circuits(datasize, x_t, n_dim):\n",
    "    t0 = time.time()\n",
    "    \n",
    "    circuits = []\n",
    "    for i1, i2 in combinations(range(1, datasize + 1), 2):\n",
    "        cir = get_qc_circuit(x_t[i1-1], x_t[i2-1], n_dim)\n",
    "        circuits.append(cir)\n",
    "    print(\"Time =\", time.time()-t0)\n",
    "    return circuits"
   ]
  },
  {
   "cell_type": "code",
   "execution_count": 13,
   "metadata": {},
   "outputs": [
    {
     "name": "stdout",
     "output_type": "stream",
     "text": [
      "Time = 5.422504425048828\n",
      "780\n"
     ]
    },
    {
     "data": {
      "text/plain": [
       "780"
      ]
     },
     "execution_count": 13,
     "metadata": {},
     "output_type": "execute_result"
    }
   ],
   "source": [
    "# all_circuits function check \n",
    "circuits = all_circuits(num_train*2, data_train, n_dim)\n",
    "print(np.sum(np.arange(1,40)))\n",
    "len(circuits)"
   ]
  },
  {
   "cell_type": "code",
   "execution_count": 38,
   "metadata": {},
   "outputs": [],
   "source": [
    "def all_circuits_parallel(datasize, x_t, n_dim, num_cpu = 12):\n",
    "    t0 = time.time()\n",
    "\n",
    "    # Use Pool to parallelize the computation of circuits\n",
    "    with Pool(processes=num_cpu-2, maxtasksperchild=100) as pool:\n",
    "        indices_list = list(combinations(range(1, datasize + 1), 2))\n",
    "        circuits = pool.starmap(get_qc_circuit, [(x_t[i1-1], x_t[i2-1], n_dim) for i1, i2 in indices_list])\n",
    "    print(\"Time =\", time.time() - t0)\n",
    "    return circuits"
   ]
  },
  {
   "cell_type": "code",
   "execution_count": 15,
   "metadata": {},
   "outputs": [
    {
     "name": "stdout",
     "output_type": "stream",
     "text": [
      "Time = 1.445021152496338\n",
      "780\n"
     ]
    },
    {
     "data": {
      "text/plain": [
       "780"
      ]
     },
     "execution_count": 15,
     "metadata": {},
     "output_type": "execute_result"
    }
   ],
   "source": [
    "# all_circuits_parallel function check \n",
    "circuits_p = all_circuits_parallel(num_train*2, data_train, n_dim)\n",
    "print(np.sum(np.arange(1,40)))\n",
    "len(circuits_p)"
   ]
  },
  {
   "cell_type": "markdown",
   "metadata": {},
   "source": [
    "---"
   ]
  },
  {
   "cell_type": "markdown",
   "metadata": {},
   "source": [
    "test compare cuquantum,opt_einsum,numpy"
   ]
  },
  {
   "cell_type": "code",
   "execution_count": 16,
   "metadata": {},
   "outputs": [],
   "source": [
    "n_dim = 2\n",
    "num_train = 10\n",
    "num_test  = 2\n",
    "class_lb = [0,1] \n",
    "\n",
    "data_0_train, data_0_test = data_per_class(class_lb[0],num_train,num_test)\n",
    "data_1_train, data_1_test = data_per_class(class_lb[1],num_train,num_test)\n",
    "data_train, label_train   = fashion_data(data_0_train,data_1_train,n_dim)\n",
    "\n",
    "qsvm_qc = get_qc_circuit(data_train[0],data_train[0],n_dim)\n",
    "# print(data_train[0],data_train[0])"
   ]
  },
  {
   "cell_type": "code",
   "execution_count": 17,
   "metadata": {},
   "outputs": [
    {
     "name": "stdout",
     "output_type": "stream",
     "text": [
      "1.68 ms ± 28.7 µs per loop (mean ± std. dev. of 7 runs, 1,000 loops each)\n",
      "11.5 ms ± 576 µs per loop (mean ± std. dev. of 7 runs, 100 loops each)\n",
      "8.25 ms ± 734 µs per loop (mean ± std. dev. of 7 runs, 100 loops each)\n"
     ]
    }
   ],
   "source": [
    "converter = cuquantum.CircuitToEinsum(qsvm_qc, backend='numpy')\n",
    "a = str(0).zfill(n_dim)\n",
    "exp, oper = converter.amplitude(a)\n",
    "path, info = cuquantum.contract_path(exp, *oper)\n",
    "\n",
    "# %timeit np.einsum(exp, *oper)\n",
    "%timeit opt_einsum.contract(exp, *oper)\n",
    "%timeit cuquantum.contract(exp, *oper)\n",
    "%timeit cuquantum.contract(exp, *oper, optimize = {'path' : path})  "
   ]
  },
  {
   "cell_type": "code",
   "execution_count": 18,
   "metadata": {},
   "outputs": [
    {
     "name": "stdout",
     "output_type": "stream",
     "text": [
      "3.95 ms ± 684 µs per loop (mean ± std. dev. of 7 runs, 100 loops each)\n",
      "8.63 ms ± 569 µs per loop (mean ± std. dev. of 7 runs, 100 loops each)\n",
      "3.63 ms ± 117 µs per loop (mean ± std. dev. of 7 runs, 100 loops each)\n"
     ]
    }
   ],
   "source": [
    "converter = cuquantum.CircuitToEinsum(qsvm_qc, backend='cupy')\n",
    "a = str(0).zfill(n_dim)\n",
    "exp, oper = converter.amplitude(a)\n",
    "path, info = cuquantum.contract_path(exp, *oper)\n",
    "\n",
    "# %timeit np.einsum(exp, *oper)\n",
    "%timeit opt_einsum.contract(exp, *oper)\n",
    "%timeit cuquantum.contract(exp, *oper)\n",
    "%timeit cuquantum.contract(exp, *oper, optimize = {'path' : path})  "
   ]
  },
  {
   "cell_type": "markdown",
   "metadata": {},
   "source": [
    "---"
   ]
  },
  {
   "cell_type": "code",
   "execution_count": 19,
   "metadata": {},
   "outputs": [],
   "source": [
    "def get_path(circuit):\n",
    "    converter = cuquantum.CircuitToEinsum(circuit, backend='numpy')\n",
    "    a = str(0).zfill(n_dim)\n",
    "    exp, oper = converter.amplitude(a)  \n",
    "    return exp, oper"
   ]
  },
  {
   "cell_type": "code",
   "execution_count": 20,
   "metadata": {},
   "outputs": [],
   "source": [
    "def all_operands(all_circuits,datasize):\n",
    "    t0 = time.time()\n",
    "    \n",
    "    operands = []\n",
    "    i = -1\n",
    "    for i1 in range(2,datasize+1):\n",
    "        for i2 in range(1,i1):\n",
    "            i += 1\n",
    "            _, oper = get_path(all_circuits[i])\n",
    "            oper_gpu = [cp.asarray(tensor) for tensor in oper]\n",
    "            operands.append(oper_gpu)\n",
    "    print(\"Time =\", time.time()-t0)\n",
    "    \n",
    "    return operands"
   ]
  },
  {
   "cell_type": "code",
   "execution_count": 21,
   "metadata": {},
   "outputs": [],
   "source": [
    "def all_operands_parallel(all_circuits,num_cpu = 12):\n",
    "    t0 = time.time()\n",
    "\n",
    "    # Use Pool to parallelize the computation of operands\n",
    "    with Pool(processes=num_cpu-2, maxtasksperchild=100) as pool:\n",
    "        results = pool.map(get_path, all_circuits)\n",
    "\n",
    "    operands = [[cp.asarray(tensor) for tensor in oper] for _, oper in results]\n",
    "    print(\"Time =\", time.time() - t0)\n",
    "\n",
    "    return operands"
   ]
  },
  {
   "cell_type": "code",
   "execution_count": 22,
   "metadata": {},
   "outputs": [
    {
     "name": "stdout",
     "output_type": "stream",
     "text": [
      "all_circuits_parallel + all_operands_parallel\n",
      "Time = 0.8409066200256348\n",
      "Time = 0.7108280658721924\n"
     ]
    }
   ],
   "source": [
    "# check all_operands_p with all_circuits_p\n",
    "print('all_circuits_parallel + all_operands_parallel')\n",
    "circuits_p = all_circuits_parallel(num_train*2, data_train, n_dim)\n",
    "operands_p = all_operands_parallel(circuits_p,num_train*2)"
   ]
  },
  {
   "cell_type": "markdown",
   "metadata": {},
   "source": [
    "---"
   ]
  },
  {
   "cell_type": "code",
   "execution_count": 23,
   "metadata": {},
   "outputs": [],
   "source": [
    "def get_kernel_matrix_cutensornet(operands,x_t,datasize,n_dim):\n",
    "    kernel_matrix = cp.zeros((datasize,datasize))\n",
    "\n",
    "    circuit = get_qc_circuit(x_t[0], x_t[0], n_dim)\n",
    "    exp, _ = get_path(circuit)\n",
    "    oper, i = operands[0], -1\n",
    "    with cuquantum.Network(exp, *oper) as tn:\n",
    "        path, info = tn.contract_path()\n",
    "        t0 = time.time()\n",
    "        for i1 in range(2,datasize+1):\n",
    "            for i2 in range(1,i1):\n",
    "                i += 1\n",
    "                tn.reset_operands(*operands[i])\n",
    "                amp = tn.contract()\n",
    "                kernel_matrix[i1-1][i2-1] = cp.round(cp.sqrt(cp.square(amp.real)+cp.square(amp.imag)),5)\n",
    "        kernel_matrix = kernel_matrix + kernel_matrix.T+cp.diag(cp.ones((datasize)))\n",
    "        print(\"Time = \", time.time()-t0)\n",
    "    \n",
    "    return kernel_matrix"
   ]
  },
  {
   "cell_type": "code",
   "execution_count": 24,
   "metadata": {},
   "outputs": [],
   "source": [
    "def get_kernel_matrix_opteinsum(operands,x_t,datasize,n_dim):\n",
    "    kernel_matrix = cp.zeros((datasize,datasize))\n",
    "\n",
    "    circuit = get_qc_circuit(x_t[0], x_t[0], n_dim)\n",
    "    exp, _ = get_path(circuit)\n",
    "    oper, i = operands[0], -1\n",
    "    t0 = time.time()\n",
    "    for i1 in range(2,datasize+1):\n",
    "        for i2 in range(1,i1):\n",
    "            i += 1\n",
    "            amp = opt_einsum.contract(exp,*operands[i])\n",
    "            kernel_matrix[i1-1][i2-1] = cp.round(cp.sqrt(cp.square(amp.real)+cp.square(amp.imag)),5)\n",
    "    kernel_matrix = kernel_matrix + kernel_matrix.T+cp.diag(cp.ones((datasize)))\n",
    "    print(\"Time = \", time.time()-t0)\n",
    "    \n",
    "    return kernel_matrix"
   ]
  },
  {
   "cell_type": "code",
   "execution_count": 25,
   "metadata": {},
   "outputs": [
    {
     "name": "stdout",
     "output_type": "stream",
     "text": [
      "Time = 0.4339559078216553\n",
      "Time = 0.7382369041442871\n",
      "Time =  0.2984039783477783\n",
      "Time =  0.6761229038238525\n"
     ]
    }
   ],
   "source": [
    "# for cuquantum\n",
    "circuits_p = all_circuits_parallel(num_train*2, data_train, n_dim)\n",
    "operands_p = all_operands_parallel(circuits_p,num_train*2)\n",
    "kernel_matrix_cutensornet = get_kernel_matrix_cutensornet(operands_p, data_train, num_train*2, n_dim)\n",
    "kernel_matrix_opteinsum = get_kernel_matrix_opteinsum(operands_p, data_train, num_train*2, n_dim)"
   ]
  },
  {
   "cell_type": "markdown",
   "metadata": {},
   "source": [
    "---"
   ]
  },
  {
   "cell_type": "markdown",
   "metadata": {},
   "source": [
    "get test data"
   ]
  },
  {
   "cell_type": "code",
   "execution_count": 41,
   "metadata": {},
   "outputs": [],
   "source": [
    "# get_qc_circuit function check\n",
    "n_dim = 2\n",
    "num_train = 20\n",
    "num_test  = 2\n",
    "class_lb = [0,1] \n",
    "\n",
    "data_0_train, data_0_test = data_per_class(class_lb[0],num_train,num_test)\n",
    "data_1_train, data_1_test = data_per_class(class_lb[1],num_train,num_test)\n",
    "data_train, label_train   = fashion_data(data_0_train,data_1_train,n_dim)\n",
    "data_test, label_test     = fashion_data(data_0_test,data_1_test,n_dim)"
   ]
  },
  {
   "cell_type": "code",
   "execution_count": 44,
   "metadata": {},
   "outputs": [],
   "source": [
    "def all_circuits_test_parallel(data1,data2, n_dim, num_cpu = 12):\n",
    "    t0 = time.time()\n",
    "    # Use Pool to parallelize the computation of circuits\n",
    "    with Pool(processes=num_cpu-2, maxtasksperchild=100) as pool:\n",
    "        indices_list = list(product(range(1, len(data1) + 1),range(1, len(data2) + 1)))\n",
    "        circuits = pool.starmap(get_qc_circuit, [(data1[i1-1], data2[i2-1], n_dim) for i1, i2 in indices_list])\n",
    "    print(\"Time =\", time.time() - t0)\n",
    "    return circuits"
   ]
  },
  {
   "cell_type": "code",
   "execution_count": 48,
   "metadata": {},
   "outputs": [
    {
     "name": "stdout",
     "output_type": "stream",
     "text": [
      "Time = 0.7385029792785645\n",
      "160\n"
     ]
    },
    {
     "data": {
      "text/plain": [
       "160"
      ]
     },
     "execution_count": 48,
     "metadata": {},
     "output_type": "execute_result"
    }
   ],
   "source": [
    "circuits = all_circuits_test_parallel(data_test,data_train,n_dim, num_cpu=32)\n",
    "print(len(data_test)*len(data_train))\n",
    "len(circuits)"
   ]
  },
  {
   "cell_type": "code",
   "execution_count": 64,
   "metadata": {},
   "outputs": [
    {
     "data": {
      "text/plain": [
       "(4, 40)"
      ]
     },
     "execution_count": 64,
     "metadata": {},
     "output_type": "execute_result"
    }
   ],
   "source": [
    "len(data_test),len(data_train)"
   ]
  },
  {
   "cell_type": "code",
   "execution_count": 49,
   "metadata": {},
   "outputs": [],
   "source": [
    "def get_path(circuit):\n",
    "    converter = cuquantum.CircuitToEinsum(circuit, backend='numpy')\n",
    "    a = str(0).zfill(n_dim)\n",
    "    exp, oper = converter.amplitude(a)  \n",
    "    return exp, oper"
   ]
  },
  {
   "cell_type": "code",
   "execution_count": 50,
   "metadata": {},
   "outputs": [],
   "source": [
    "def all_operands_parallel(all_circuits,num_cpu = 32):\n",
    "    t0 = time.time()\n",
    "    # Use Pool to parallelize the computation of operands\n",
    "    with Pool(processes=num_cpu-2, maxtasksperchild=100) as pool:\n",
    "        results = pool.map(get_path, all_circuits)\n",
    "    operands = [[cp.asarray(tensor) for tensor in oper] for _, oper in results]\n",
    "    print(\"Time =\", time.time() - t0)\n",
    "\n",
    "    return operands"
   ]
  },
  {
   "cell_type": "code",
   "execution_count": 51,
   "metadata": {},
   "outputs": [
    {
     "name": "stdout",
     "output_type": "stream",
     "text": [
      "all_circuits_parallel + all_operands_parallel\n",
      "Time = 0.7967543601989746\n",
      "Time = 1.1562778949737549\n"
     ]
    }
   ],
   "source": [
    "# check all_operands_p with all_circuits_p\n",
    "print('all_circuits_parallel + all_operands_parallel')\n",
    "circuits_p = all_circuits_test_parallel(data_test,data_train,n_dim, num_cpu=32)\n",
    "operands_p = all_operands_parallel(circuits_p,num_train*2)"
   ]
  },
  {
   "cell_type": "code",
   "execution_count": 62,
   "metadata": {},
   "outputs": [],
   "source": [
    "def get_kernel_matrix_cutensornet_n(operands,x_t,datasize1,datasize2,n_dim):\n",
    "    kernel_matrix = cp.zeros((datasize1,datasize2))\n",
    "\n",
    "    circuit = get_qc_circuit(x_t[0], x_t[0], n_dim)\n",
    "    exp, _ = get_path(circuit)\n",
    "    oper, i = operands[0], -1\n",
    "    with cuquantum.Network(exp, *oper) as tn:\n",
    "        path, info = tn.contract_path()\n",
    "        t0 = time.time()\n",
    "        for i1 in range(1,datasize1+1):\n",
    "            for i2 in range(1,datasize2+1):\n",
    "                i += 1\n",
    "                tn.reset_operands(*operands[i])\n",
    "                amp = tn.contract()\n",
    "                kernel_matrix[i1-1][i2-1] = cp.round(cp.sqrt(cp.square(amp.real)+cp.square(amp.imag)),5)\n",
    "        print(\"Time = \", time.time()-t0)\n",
    "    \n",
    "    return kernel_matrix"
   ]
  },
  {
   "cell_type": "code",
   "execution_count": 71,
   "metadata": {},
   "outputs": [
    {
     "name": "stdout",
     "output_type": "stream",
     "text": [
      "Time = 1.4963786602020264\n",
      "Time = 1.119154453277588\n",
      "Time =  0.28539419174194336\n"
     ]
    }
   ],
   "source": [
    "# for cuquantum\n",
    "circuits_p = all_circuits_test_parallel(data_test,data_train,n_dim, num_cpu=32)\n",
    "operands_p = all_operands_parallel(circuits_p)\n",
    "kernel_matrix_cutensornet = get_kernel_matrix_cutensornet_n(operands_p, data_train, len(data_test),len(data_train), n_dim)"
   ]
  },
  {
   "cell_type": "code",
   "execution_count": 68,
   "metadata": {},
   "outputs": [
    {
     "data": {
      "text/plain": [
       "array([[0.56134, 0.58545, 0.30704, 0.68243, 0.43488, 0.19485, 0.47118,\n",
       "        0.01925, 0.22485, 0.40425, 0.4166 , 0.19903, 0.83337, 0.56082,\n",
       "        0.29958, 0.39296, 0.44263, 0.43898, 0.35663, 0.44741, 0.64948,\n",
       "        0.19166, 0.34809, 0.69326, 0.76432, 0.32308, 0.27413, 0.61255,\n",
       "        0.27075, 0.64456, 0.52359, 0.40379, 0.33018, 0.59943, 0.65784,\n",
       "        0.06901, 0.0646 , 0.41589, 0.20628, 0.24466],\n",
       "       [0.1123 , 0.38433, 0.18901, 0.72055, 0.41111, 0.76075, 0.15817,\n",
       "        0.68293, 0.7288 , 0.25688, 0.81267, 0.78061, 0.20607, 0.42072,\n",
       "        0.65659, 0.70515, 0.3096 , 0.78002, 0.27217, 0.52455, 0.18951,\n",
       "        0.29006, 0.948  , 0.54821, 0.28739, 0.17954, 0.20116, 0.20118,\n",
       "        0.63223, 0.8127 , 0.22297, 0.45495, 0.5403 , 0.75224, 0.6871 ,\n",
       "        0.21504, 0.45694, 0.39393, 0.91003, 0.14406],\n",
       "       [0.37891, 0.53373, 0.70692, 0.10469, 0.36351, 0.57182, 0.3154 ,\n",
       "        0.70826, 0.10262, 0.52949, 0.528  , 0.35285, 0.31525, 0.38712,\n",
       "        0.15129, 0.39984, 0.07665, 0.61639, 0.50002, 0.54592, 0.48098,\n",
       "        0.4294 , 0.47006, 0.38437, 0.38534, 0.54142, 0.71145, 0.219  ,\n",
       "        0.78781, 0.11094, 0.75206, 0.51095, 0.22521, 0.20716, 0.22041,\n",
       "        0.66655, 0.26152, 0.35481, 0.58905, 0.34331],\n",
       "       [0.25958, 0.17384, 0.60508, 0.56791, 0.72317, 0.66248, 0.52609,\n",
       "        0.29007, 0.47441, 0.7321 , 0.86295, 0.26054, 0.18314, 0.27342,\n",
       "        0.43271, 0.93999, 0.43246, 0.75197, 0.76314, 0.3152 , 0.03391,\n",
       "        0.52034, 0.76583, 0.42253, 0.13528, 0.8921 , 0.51856, 0.44272,\n",
       "        0.56635, 0.53569, 0.46256, 0.76409, 0.36077, 0.67064, 0.65276,\n",
       "        0.53645, 0.33956, 0.296  , 0.7186 , 0.84286]])"
      ]
     },
     "execution_count": 68,
     "metadata": {},
     "output_type": "execute_result"
    }
   ],
   "source": [
    "kernel_matrix_cutensornet"
   ]
  },
  {
   "cell_type": "code",
   "execution_count": 70,
   "metadata": {},
   "outputs": [],
   "source": [
    "from sklearn.svm import SVC"
   ]
  },
  {
   "cell_type": "code",
   "execution_count": null,
   "metadata": {},
   "outputs": [],
   "source": [
    "svc = SVC(kernel=\"precomputed\")\n",
    "svc.fit(kernel_matrix_cutensornet.get(), label_train)\n",
    "adhoc_score_precomputed_kernel = svc.score(kernel_matrix_cutensornet.get(), label_train)\n",
    "\n",
    "print(f\"Precomputed kernel classification train score: {adhoc_score_precomputed_kernel}\")"
   ]
  },
  {
   "cell_type": "code",
   "execution_count": null,
   "metadata": {},
   "outputs": [],
   "source": [
    "for q in range(2,29):\n",
    "    n_dim=q*q\n",
    "    print(n_dim)"
   ]
  }
 ],
 "metadata": {
  "kernelspec": {
   "display_name": "qiskit",
   "language": "python",
   "name": "python3"
  },
  "language_info": {
   "codemirror_mode": {
    "name": "ipython",
    "version": 3
   },
   "file_extension": ".py",
   "mimetype": "text/x-python",
   "name": "python",
   "nbconvert_exporter": "python",
   "pygments_lexer": "ipython3",
   "version": "3.9.18"
  }
 },
 "nbformat": 4,
 "nbformat_minor": 2
}
