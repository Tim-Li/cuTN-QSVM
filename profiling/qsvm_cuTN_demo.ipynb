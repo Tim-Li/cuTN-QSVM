{
 "cells": [
  {
   "cell_type": "code",
   "execution_count": 1,
   "metadata": {},
   "outputs": [],
   "source": [
    "import numpy as np\n",
    "import pandas as pd\n",
    "import time\n",
    "import matplotlib.pyplot as plt\n",
    "from sklearn.model_selection import train_test_split\n",
    "from sklearn.decomposition import PCA\n",
    "from sklearn.preprocessing import StandardScaler\n",
    "from qiskit.circuit.library import PauliFeatureMap, ZFeatureMap, ZZFeatureMap\n",
    "from qiskit_machine_learning.kernels import QuantumKernel\n",
    "import qiskit\n",
    "from cuquantum import *\n",
    "import nvtx"
   ]
  },
  {
   "cell_type": "code",
   "execution_count": 2,
   "metadata": {},
   "outputs": [],
   "source": [
    "traindata = pd.read_csv('../data/fashion-mnist-data/fashion-mnist_train.csv')\n",
    "filt = (traindata['label'] < 2)\n",
    "two_class = traindata.loc[filt]"
   ]
  },
  {
   "cell_type": "code",
   "execution_count": 3,
   "metadata": {},
   "outputs": [],
   "source": [
    "def fashion_train_data(n_dim = 2,datasize = 2):\n",
    "    data_train  = two_class.iloc[:,1:785] / 255.0\n",
    "    label_train = pd.DataFrame([two_class.iloc[:,0]]).T\n",
    "    l_train=pd.DataFrame([two_class.iloc[:,0]]).T\n",
    "    X_train, X_val, Y_train, Y_val = train_test_split(data_train, l_train, test_size = 0.25, random_state=255)\n",
    "    X_train = StandardScaler().fit_transform(X_train)\n",
    "    X_val   = StandardScaler().fit_transform(X_val)\n",
    "    pca = PCA(n_components=n_dim).fit(X_train)\n",
    "    X_train = pca.transform(X_train)\n",
    "    X_train = X_train[:datasize]\n",
    "    Y_train = np.array(Y_train).ravel()\n",
    "    Y_train = Y_train[:datasize]  \n",
    "    return X_train, Y_train"
   ]
  },
  {
   "cell_type": "code",
   "execution_count": 4,
   "metadata": {},
   "outputs": [],
   "source": [
    "def qc_qiskit2cuquantum(x_t1, x_t2, n_dim):\n",
    "    zz_map = ZZFeatureMap(feature_dimension=n_dim, reps=1, entanglement=\"linear\", insert_barriers=True)\n",
    "    zz_kernel = QuantumKernel(feature_map=zz_map)  \n",
    "    zz_circuit = zz_kernel.construct_circuit(x_t1,x_t2,measurement=False,is_statevector_sim=False)\n",
    "    converter = CircuitToEinsum(zz_circuit, backend='cupy')\n",
    "    a = str(0).zfill(n_dim)\n",
    "    exp, oper = converter.amplitude(a)  \n",
    "    return zz_circuit, exp, oper"
   ]
  },
  {
   "cell_type": "code",
   "execution_count": 5,
   "metadata": {},
   "outputs": [],
   "source": [
    "def get_path(exp, oper):\n",
    "    qsvm_path, info = contract_path(exp,*oper)\n",
    "    return qsvm_path"
   ]
  },
  {
   "cell_type": "code",
   "execution_count": 6,
   "metadata": {},
   "outputs": [],
   "source": [
    "def get_kernel_matrix(x_t,datasize,n_dim,path):\n",
    "    kernel_matrix = np.zeros((datasize,datasize))\n",
    "    for i1 in range(2,datasize+1):\n",
    "        for i2 in range(1,i1):\n",
    "            qc_tmp, exp_tmp, oper_tmp = qc_qiskit2cuquantum(x_t[i1-1],x_t[i2-1],n_dim)\n",
    "            amp = contract(exp_tmp,*oper_tmp, optimize = {'path' : path})\n",
    "            amp_tmp = np.round(np.sqrt(np.square(amp.real)+np.square(amp.imag)),5)\n",
    "            kernel_matrix[i1-1][i2-1] = amp_tmp\n",
    "    kernel_matrix = kernel_matrix+kernel_matrix.T+np.diag(np.ones((datasize)))\n",
    "    return kernel_matrix  "
   ]
  },
  {
   "cell_type": "code",
   "execution_count": 7,
   "metadata": {},
   "outputs": [
    {
     "data": {
      "text/plain": [
       "array([[1.     , 0.55358],\n",
       "       [0.55358, 1.     ]])"
      ]
     },
     "execution_count": 7,
     "metadata": {},
     "output_type": "execute_result"
    }
   ],
   "source": [
    "n_dim, datasize  = 2, 2\n",
    "x_t, y_t = fashion_train_data(n_dim, datasize)\n",
    "qc, exp, oper = qc_qiskit2cuquantum(x_t[0], x_t[0], n_dim)\n",
    "path = get_path(exp, oper)\n",
    "get_kernel_matrix(x_t,datasize,n_dim,path)"
   ]
  }
 ],
 "metadata": {
  "kernelspec": {
   "display_name": "qiskit",
   "language": "python",
   "name": "python3"
  },
  "language_info": {
   "codemirror_mode": {
    "name": "ipython",
    "version": 3
   },
   "file_extension": ".py",
   "mimetype": "text/x-python",
   "name": "python",
   "nbconvert_exporter": "python",
   "pygments_lexer": "ipython3",
   "version": "3.9.18"
  }
 },
 "nbformat": 4,
 "nbformat_minor": 2
}
